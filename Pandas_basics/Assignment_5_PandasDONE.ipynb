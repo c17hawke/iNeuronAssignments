{
  "nbformat": 4,
  "nbformat_minor": 0,
  "metadata": {
    "kernelspec": {
      "display_name": "Python 3",
      "language": "python",
      "name": "python3"
    },
    "language_info": {
      "codemirror_mode": {
        "name": "ipython",
        "version": 3
      },
      "file_extension": ".py",
      "mimetype": "text/x-python",
      "name": "python",
      "nbconvert_exporter": "python",
      "pygments_lexer": "ipython3",
      "version": "3.7.4"
    },
    "colab": {
      "name": "Assignment 5 - PandasDONE.ipynb",
      "provenance": [],
      "collapsed_sections": [],
      "include_colab_link": true
    }
  },
  "cells": [
    {
      "cell_type": "markdown",
      "metadata": {
        "id": "view-in-github",
        "colab_type": "text"
      },
      "source": [
        "<a href=\"https://colab.research.google.com/github/c17hawke/iNeuronAssignments/blob/master/Assignment_5_PandasDONE.ipynb\" target=\"_parent\"><img src=\"https://colab.research.google.com/assets/colab-badge.svg\" alt=\"Open In Colab\"/></a>"
      ]
    },
    {
      "cell_type": "markdown",
      "metadata": {
        "id": "fhdpfmzDKxUg",
        "colab_type": "text"
      },
      "source": [
        "# Assignment 5 Questions"
      ]
    },
    {
      "cell_type": "markdown",
      "metadata": {
        "id": "-CCZyK-yKxUl",
        "colab_type": "text"
      },
      "source": [
        "## Problem Statement"
      ]
    },
    {
      "cell_type": "markdown",
      "metadata": {
        "id": "fi_rUoTyKxUn",
        "colab_type": "text"
      },
      "source": [
        "---\n",
        "### Task 1:\n",
        "\n",
        "Read the dataset from the bellow link\n",
        "\n",
        "url = https://raw.githubusercontent.com/hadley/data-baby-names/master/baby-names.csv\n"
      ]
    },
    {
      "cell_type": "code",
      "metadata": {
        "id": "hbStdPhpK5BD",
        "colab_type": "code",
        "colab": {}
      },
      "source": [
        "import pandas as pd"
      ],
      "execution_count": 0,
      "outputs": []
    },
    {
      "cell_type": "code",
      "metadata": {
        "id": "-XJ--_ECKxUq",
        "colab_type": "code",
        "outputId": "740a3106-8bf4-45eb-f367-32c6e2d2da37",
        "colab": {
          "base_uri": "https://localhost:8080/",
          "height": 195
        }
      },
      "source": [
        "URL = \"https://raw.githubusercontent.com/hadley/data-baby-names/master/baby-names.csv\"\n",
        "df = pd.read_csv(URL)\n",
        "df.head()"
      ],
      "execution_count": 2,
      "outputs": [
        {
          "output_type": "execute_result",
          "data": {
            "text/html": [
              "<div>\n",
              "<style scoped>\n",
              "    .dataframe tbody tr th:only-of-type {\n",
              "        vertical-align: middle;\n",
              "    }\n",
              "\n",
              "    .dataframe tbody tr th {\n",
              "        vertical-align: top;\n",
              "    }\n",
              "\n",
              "    .dataframe thead th {\n",
              "        text-align: right;\n",
              "    }\n",
              "</style>\n",
              "<table border=\"1\" class=\"dataframe\">\n",
              "  <thead>\n",
              "    <tr style=\"text-align: right;\">\n",
              "      <th></th>\n",
              "      <th>year</th>\n",
              "      <th>name</th>\n",
              "      <th>percent</th>\n",
              "      <th>sex</th>\n",
              "    </tr>\n",
              "  </thead>\n",
              "  <tbody>\n",
              "    <tr>\n",
              "      <th>0</th>\n",
              "      <td>1880</td>\n",
              "      <td>John</td>\n",
              "      <td>0.081541</td>\n",
              "      <td>boy</td>\n",
              "    </tr>\n",
              "    <tr>\n",
              "      <th>1</th>\n",
              "      <td>1880</td>\n",
              "      <td>William</td>\n",
              "      <td>0.080511</td>\n",
              "      <td>boy</td>\n",
              "    </tr>\n",
              "    <tr>\n",
              "      <th>2</th>\n",
              "      <td>1880</td>\n",
              "      <td>James</td>\n",
              "      <td>0.050057</td>\n",
              "      <td>boy</td>\n",
              "    </tr>\n",
              "    <tr>\n",
              "      <th>3</th>\n",
              "      <td>1880</td>\n",
              "      <td>Charles</td>\n",
              "      <td>0.045167</td>\n",
              "      <td>boy</td>\n",
              "    </tr>\n",
              "    <tr>\n",
              "      <th>4</th>\n",
              "      <td>1880</td>\n",
              "      <td>George</td>\n",
              "      <td>0.043292</td>\n",
              "      <td>boy</td>\n",
              "    </tr>\n",
              "  </tbody>\n",
              "</table>\n",
              "</div>"
            ],
            "text/plain": [
              "   year     name   percent  sex\n",
              "0  1880     John  0.081541  boy\n",
              "1  1880  William  0.080511  boy\n",
              "2  1880    James  0.050057  boy\n",
              "3  1880  Charles  0.045167  boy\n",
              "4  1880   George  0.043292  boy"
            ]
          },
          "metadata": {
            "tags": []
          },
          "execution_count": 2
        }
      ]
    },
    {
      "cell_type": "markdown",
      "metadata": {
        "id": "DnVcafr8KxVF",
        "colab_type": "text"
      },
      "source": [
        "---\n",
        "### Questions"
      ]
    },
    {
      "cell_type": "markdown",
      "metadata": {
        "id": "FBZZGZBXKxVJ",
        "colab_type": "text"
      },
      "source": [
        "#### 1. Delete unnamed columns"
      ]
    },
    {
      "cell_type": "code",
      "metadata": {
        "id": "MEs-ZBtWKxVM",
        "colab_type": "code",
        "outputId": "e737661d-9bbe-472c-db83-01caa3a84421",
        "colab": {
          "base_uri": "https://localhost:8080/",
          "height": 168
        }
      },
      "source": [
        "df.info()"
      ],
      "execution_count": 3,
      "outputs": [
        {
          "output_type": "stream",
          "text": [
            "<class 'pandas.core.frame.DataFrame'>\n",
            "RangeIndex: 258000 entries, 0 to 257999\n",
            "Data columns (total 4 columns):\n",
            "year       258000 non-null int64\n",
            "name       258000 non-null object\n",
            "percent    258000 non-null float64\n",
            "sex        258000 non-null object\n",
            "dtypes: float64(1), int64(1), object(2)\n",
            "memory usage: 7.9+ MB\n"
          ],
          "name": "stdout"
        }
      ]
    },
    {
      "cell_type": "code",
      "metadata": {
        "id": "AsVZOaQ7vVfj",
        "colab_type": "code",
        "outputId": "646a92d0-d31e-4fcc-ac75-3d2d9f029f31",
        "colab": {
          "base_uri": "https://localhost:8080/",
          "height": 101
        }
      },
      "source": [
        "df.isnull().any() # check if there's any null values"
      ],
      "execution_count": 4,
      "outputs": [
        {
          "output_type": "execute_result",
          "data": {
            "text/plain": [
              "year       False\n",
              "name       False\n",
              "percent    False\n",
              "sex        False\n",
              "dtype: bool"
            ]
          },
          "metadata": {
            "tags": []
          },
          "execution_count": 4
        }
      ]
    },
    {
      "cell_type": "code",
      "metadata": {
        "id": "lk-sw-VUb1cn",
        "colab_type": "code",
        "colab": {}
      },
      "source": [
        "# CONCLUSION: There are no null or unnamed columns hence no deletion is required"
      ],
      "execution_count": 0,
      "outputs": []
    },
    {
      "cell_type": "markdown",
      "metadata": {
        "id": "6xfaS2EzKxVV",
        "colab_type": "text"
      },
      "source": [
        "---\n",
        "#### 2. Show the distribution of male and female"
      ]
    },
    {
      "cell_type": "code",
      "metadata": {
        "id": "2xs63xrcKxVX",
        "colab_type": "code",
        "colab": {}
      },
      "source": [
        "import seaborn as sns\n",
        "import matplotlib.pyplot as plt\n",
        "plt.style.use('fivethirtyeight')"
      ],
      "execution_count": 0,
      "outputs": []
    },
    {
      "cell_type": "code",
      "metadata": {
        "id": "Zo1VVCy8Me1e",
        "colab_type": "code",
        "outputId": "d1cfaf31-ccff-4e4f-8ec0-2c64134afb38",
        "colab": {
          "base_uri": "https://localhost:8080/",
          "height": 67
        }
      },
      "source": [
        "df.sex.value_counts()"
      ],
      "execution_count": 7,
      "outputs": [
        {
          "output_type": "execute_result",
          "data": {
            "text/plain": [
              "girl    129000\n",
              "boy     129000\n",
              "Name: sex, dtype: int64"
            ]
          },
          "metadata": {
            "tags": []
          },
          "execution_count": 7
        }
      ]
    },
    {
      "cell_type": "code",
      "metadata": {
        "id": "8yb4t1tmLOv3",
        "colab_type": "code",
        "outputId": "0670599b-1620-47dc-cbb6-be361ab84024",
        "colab": {
          "base_uri": "https://localhost:8080/",
          "height": 303
        }
      },
      "source": [
        "# replacing string \"boy\" with 1 and \"girl\" with 0 to create a dist plot\n",
        "sns.distplot([1 if i==\"boy\" else 0 for i in df.sex ])\n",
        "plt.xticks([0,1])\n",
        "plt.title(\"Girl and Boy distribution plot\");"
      ],
      "execution_count": 8,
      "outputs": [
        {
          "output_type": "display_data",
          "data": {
            "image/png": "[encoded data removed]",
            "text/plain": [
              "<Figure size 432x288 with 1 Axes>"
            ]
          },
          "metadata": {
            "tags": []
          }
        }
      ]
    },
    {
      "cell_type": "code",
      "metadata": {
        "id": "UbpIp4kne5cp",
        "colab_type": "code",
        "outputId": "3d754eb1-81a1-41c4-ffd7-f723183271f9",
        "colab": {
          "base_uri": "https://localhost:8080/",
          "height": 361
        }
      },
      "source": [
        "# plotting a count plot for \"sex\" column categories\n",
        "sns.catplot(x=\"sex\", kind=\"count\", data=df, alpha=0.5);"
      ],
      "execution_count": 9,
      "outputs": [
        {
          "output_type": "display_data",
          "data": {
            "image/png": "[encoded data removed]",
            "text/plain": [
              "<Figure size 360x360 with 1 Axes>"
            ]
          },
          "metadata": {
            "tags": []
          }
        }
      ]
    },
    {
      "cell_type": "markdown",
      "metadata": {
        "id": "5mve9AKUKxVe",
        "colab_type": "text"
      },
      "source": [
        "---\n",
        "#### 3. Show the top 5 most preferred names"
      ]
    },
    {
      "cell_type": "code",
      "metadata": {
        "id": "xzMYlM_nKxVg",
        "colab_type": "code",
        "outputId": "48297715-e7a6-42e4-cdcb-5f54a352eb0a",
        "colab": {
          "base_uri": "https://localhost:8080/",
          "height": 195
        }
      },
      "source": [
        "df.name.value_counts(ascending=False)[:5].to_frame()"
      ],
      "execution_count": 10,
      "outputs": [
        {
          "output_type": "execute_result",
          "data": {
            "text/html": [
              "<div>\n",
              "<style scoped>\n",
              "    .dataframe tbody tr th:only-of-type {\n",
              "        vertical-align: middle;\n",
              "    }\n",
              "\n",
              "    .dataframe tbody tr th {\n",
              "        vertical-align: top;\n",
              "    }\n",
              "\n",
              "    .dataframe thead th {\n",
              "        text-align: right;\n",
              "    }\n",
              "</style>\n",
              "<table border=\"1\" class=\"dataframe\">\n",
              "  <thead>\n",
              "    <tr style=\"text-align: right;\">\n",
              "      <th></th>\n",
              "      <th>name</th>\n",
              "    </tr>\n",
              "  </thead>\n",
              "  <tbody>\n",
              "    <tr>\n",
              "      <th>Jessie</th>\n",
              "      <td>258</td>\n",
              "    </tr>\n",
              "    <tr>\n",
              "      <th>Leslie</th>\n",
              "      <td>247</td>\n",
              "    </tr>\n",
              "    <tr>\n",
              "      <th>Jean</th>\n",
              "      <td>244</td>\n",
              "    </tr>\n",
              "    <tr>\n",
              "      <th>Guadalupe</th>\n",
              "      <td>244</td>\n",
              "    </tr>\n",
              "    <tr>\n",
              "      <th>Lee</th>\n",
              "      <td>240</td>\n",
              "    </tr>\n",
              "  </tbody>\n",
              "</table>\n",
              "</div>"
            ],
            "text/plain": [
              "           name\n",
              "Jessie      258\n",
              "Leslie      247\n",
              "Jean        244\n",
              "Guadalupe   244\n",
              "Lee         240"
            ]
          },
          "metadata": {
            "tags": []
          },
          "execution_count": 10
        }
      ]
    },
    {
      "cell_type": "code",
      "metadata": {
        "id": "qLbzMY35vrIs",
        "colab_type": "code",
        "outputId": "fe555a01-3654-4e92-d13e-683cfbfc838f",
        "colab": {
          "base_uri": "https://localhost:8080/",
          "height": 303
        }
      },
      "source": [
        "# plotting the above counts of names\n",
        "sns.barplot(x=df.name.value_counts(ascending=False)[:5].index,\n",
        "            y=df.name.value_counts(ascending=False)[:5],\n",
        "            alpha=0.5)\n",
        "plt.title(\"Count of top 5 most preferred names\");"
      ],
      "execution_count": 11,
      "outputs": [
        {
          "output_type": "display_data",
          "data": {
            "image/png": "[encoded data removed]",
            "text/plain": [
              "<Figure size 432x288 with 1 Axes>"
            ]
          },
          "metadata": {
            "tags": []
          }
        }
      ]
    },
    {
      "cell_type": "markdown",
      "metadata": {
        "id": "aXY61odMKxVn",
        "colab_type": "text"
      },
      "source": [
        "---\n",
        "#### 4. What is the median name occurence in the dataset"
      ]
    },
    {
      "cell_type": "code",
      "metadata": {
        "id": "U7LgAhejKxVp",
        "colab_type": "code",
        "outputId": "45f927f6-c890-4283-9c4c-3663dff0c960",
        "colab": {
          "base_uri": "https://localhost:8080/",
          "height": 238
        }
      },
      "source": [
        "# printing median names with respect to the value counts\n",
        "print(df.name.value_counts(ascending=False)[df.name.value_counts(ascending=False) == 19.0].index)"
      ],
      "execution_count": 12,
      "outputs": [
        {
          "output_type": "stream",
          "text": [
            "Index(['Tisha', 'Oakley', 'Rube', 'Windell', 'Marilou', 'Rosendo', 'Alba',\n",
            "       'Daria', 'Lum', 'Elois', 'Nataly', 'Alline', 'Johny', 'Fabiola', 'Juli',\n",
            "       'Tawana', 'Lavera', 'Salina', 'Newt', 'Eligah', 'Marylin', 'Phoenix',\n",
            "       'Shelli', 'Kane', 'Yasmine', 'Dulce', 'Camden', 'Dionne', 'Eliana',\n",
            "       'Adrain', 'Giuseppe', 'Mariela', 'Nonie', 'Kristoffer', 'Haleigh',\n",
            "       'Bobbye', 'Misael', 'Corinna', 'Jaylen', 'Doshie', 'Wayman', 'Teena',\n",
            "       'Harrell', 'Shakira', 'Aidan', 'Imani', 'Talon', 'Trena', 'Heaven',\n",
            "       'Dimple', 'Brooklyn', 'Elberta', 'Mannie', 'Brien', 'Tiny', 'Alena',\n",
            "       'Vonnie', 'Zenobia', 'Shaina', 'Olan', 'Brynn', 'Clemens', 'Lew',\n",
            "       'Monnie', 'Luciano', 'Nakia', 'Chiquita', 'Oneal', 'Ami', 'Raina',\n",
            "       'Milagros', 'Kenyatta', 'Laci', 'Genie'],\n",
            "      dtype='object')\n"
          ],
          "name": "stdout"
        }
      ]
    },
    {
      "cell_type": "code",
      "metadata": {
        "id": "HR8baIXRG8rN",
        "colab_type": "code",
        "outputId": "cfc50d19-5b48-474c-83df-07250f0543f1",
        "colab": {
          "base_uri": "https://localhost:8080/",
          "height": 77
        }
      },
      "source": [
        "# printing median name with respect to the reset index after sorting name column\n",
        "nameDf = df.name.sort_values(ascending=True).reset_index()[['name']]\n",
        "idx = nameDf.index\n",
        "nameDf[nameDf.index == len(idx)//2]"
      ],
      "execution_count": 13,
      "outputs": [
        {
          "output_type": "execute_result",
          "data": {
            "text/html": [
              "<div>\n",
              "<style scoped>\n",
              "    .dataframe tbody tr th:only-of-type {\n",
              "        vertical-align: middle;\n",
              "    }\n",
              "\n",
              "    .dataframe tbody tr th {\n",
              "        vertical-align: top;\n",
              "    }\n",
              "\n",
              "    .dataframe thead th {\n",
              "        text-align: right;\n",
              "    }\n",
              "</style>\n",
              "<table border=\"1\" class=\"dataframe\">\n",
              "  <thead>\n",
              "    <tr style=\"text-align: right;\">\n",
              "      <th></th>\n",
              "      <th>name</th>\n",
              "    </tr>\n",
              "  </thead>\n",
              "  <tbody>\n",
              "    <tr>\n",
              "      <th>129000</th>\n",
              "      <td>Jim</td>\n",
              "    </tr>\n",
              "  </tbody>\n",
              "</table>\n",
              "</div>"
            ],
            "text/plain": [
              "       name\n",
              "129000  Jim"
            ]
          },
          "metadata": {
            "tags": []
          },
          "execution_count": 13
        }
      ]
    },
    {
      "cell_type": "markdown",
      "metadata": {
        "id": "e4VvYey8KxWB",
        "colab_type": "text"
      },
      "source": [
        "---\n",
        "#### 5. Distribution of male and female born count by states"
      ]
    },
    {
      "cell_type": "code",
      "metadata": {
        "id": "UTchewKPKxWF",
        "colab_type": "code",
        "colab": {}
      },
      "source": [
        "# there is no states column in the given dataframe"
      ],
      "execution_count": 0,
      "outputs": []
    },
    {
      "cell_type": "markdown",
      "metadata": {
        "id": "3rACXG63KxWP",
        "colab_type": "text"
      },
      "source": [
        "---\n",
        "---\n",
        "### Task 2:\n",
        "\n",
        "We have the min and max temperatures in a city In India for each months of the year. We\n",
        "would like to find a function to describe this and show it graphically, the dataset given below.\n",
        "\n",
        "    Task:\n",
        "    1. fitting it to the periodic function\n",
        "    2. plot the fit\n",
        "    \n",
        "    Data\n",
        "    Max = 39, 41, 43, 47, 49, 51, 45, 38, 37, 29, 27, 25\n",
        "    Min = 21, 23, 27, 28, 32, 35, 31, 28, 21, 19, 17, 18\n"
      ]
    },
    {
      "cell_type": "code",
      "metadata": {
        "id": "DMU2mhvyKxWS",
        "colab_type": "code",
        "colab": {}
      },
      "source": [
        "data = {\"Max\":[39, 41, 43, 47, 49, 51, 45, 38, 37, 29, 27, 25],\n",
        "        \"Min\":[21, 23, 27, 28, 32, 35, 31, 28, 21, 19, 17, 18]}"
      ],
      "execution_count": 0,
      "outputs": []
    },
    {
      "cell_type": "code",
      "metadata": {
        "id": "wgMMiT_xOx6V",
        "colab_type": "code",
        "outputId": "7cf58560-a9e6-4a84-8d1d-288cf0dae0c5",
        "colab": {
          "base_uri": "https://localhost:8080/",
          "height": 402
        }
      },
      "source": [
        "newDf = pd.DataFrame(data)\n",
        "newDf"
      ],
      "execution_count": 16,
      "outputs": [
        {
          "output_type": "execute_result",
          "data": {
            "text/html": [
              "<div>\n",
              "<style scoped>\n",
              "    .dataframe tbody tr th:only-of-type {\n",
              "        vertical-align: middle;\n",
              "    }\n",
              "\n",
              "    .dataframe tbody tr th {\n",
              "        vertical-align: top;\n",
              "    }\n",
              "\n",
              "    .dataframe thead th {\n",
              "        text-align: right;\n",
              "    }\n",
              "</style>\n",
              "<table border=\"1\" class=\"dataframe\">\n",
              "  <thead>\n",
              "    <tr style=\"text-align: right;\">\n",
              "      <th></th>\n",
              "      <th>Max</th>\n",
              "      <th>Min</th>\n",
              "    </tr>\n",
              "  </thead>\n",
              "  <tbody>\n",
              "    <tr>\n",
              "      <th>0</th>\n",
              "      <td>39</td>\n",
              "      <td>21</td>\n",
              "    </tr>\n",
              "    <tr>\n",
              "      <th>1</th>\n",
              "      <td>41</td>\n",
              "      <td>23</td>\n",
              "    </tr>\n",
              "    <tr>\n",
              "      <th>2</th>\n",
              "      <td>43</td>\n",
              "      <td>27</td>\n",
              "    </tr>\n",
              "    <tr>\n",
              "      <th>3</th>\n",
              "      <td>47</td>\n",
              "      <td>28</td>\n",
              "    </tr>\n",
              "    <tr>\n",
              "      <th>4</th>\n",
              "      <td>49</td>\n",
              "      <td>32</td>\n",
              "    </tr>\n",
              "    <tr>\n",
              "      <th>5</th>\n",
              "      <td>51</td>\n",
              "      <td>35</td>\n",
              "    </tr>\n",
              "    <tr>\n",
              "      <th>6</th>\n",
              "      <td>45</td>\n",
              "      <td>31</td>\n",
              "    </tr>\n",
              "    <tr>\n",
              "      <th>7</th>\n",
              "      <td>38</td>\n",
              "      <td>28</td>\n",
              "    </tr>\n",
              "    <tr>\n",
              "      <th>8</th>\n",
              "      <td>37</td>\n",
              "      <td>21</td>\n",
              "    </tr>\n",
              "    <tr>\n",
              "      <th>9</th>\n",
              "      <td>29</td>\n",
              "      <td>19</td>\n",
              "    </tr>\n",
              "    <tr>\n",
              "      <th>10</th>\n",
              "      <td>27</td>\n",
              "      <td>17</td>\n",
              "    </tr>\n",
              "    <tr>\n",
              "      <th>11</th>\n",
              "      <td>25</td>\n",
              "      <td>18</td>\n",
              "    </tr>\n",
              "  </tbody>\n",
              "</table>\n",
              "</div>"
            ],
            "text/plain": [
              "    Max  Min\n",
              "0    39   21\n",
              "1    41   23\n",
              "2    43   27\n",
              "3    47   28\n",
              "4    49   32\n",
              "5    51   35\n",
              "6    45   31\n",
              "7    38   28\n",
              "8    37   21\n",
              "9    29   19\n",
              "10   27   17\n",
              "11   25   18"
            ]
          },
          "metadata": {
            "tags": []
          },
          "execution_count": 16
        }
      ]
    },
    {
      "cell_type": "code",
      "metadata": {
        "id": "zEUoZIiXPYTB",
        "colab_type": "code",
        "outputId": "f8d09620-e199-4fbe-9522-578041c13bf5",
        "colab": {
          "base_uri": "https://localhost:8080/",
          "height": 304
        }
      },
      "source": [
        "newDf.plot(alpha=0.5)\n",
        "plt.xlabel(\"no. of observation\")\n",
        "plt.ylabel(\"temperature\")\n",
        "plt.show();"
      ],
      "execution_count": 17,
      "outputs": [
        {
          "output_type": "display_data",
          "data": {
            "image/png": "[encoded data removed]",
            "text/plain": [
              "<Figure size 432x288 with 1 Axes>"
            ]
          },
          "metadata": {
            "tags": []
          }
        }
      ]
    }
  ]
}
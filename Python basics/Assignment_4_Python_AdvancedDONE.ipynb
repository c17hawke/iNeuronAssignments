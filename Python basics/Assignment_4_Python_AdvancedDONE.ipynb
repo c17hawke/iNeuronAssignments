{
  "nbformat": 4,
  "nbformat_minor": 0,
  "metadata": {
    "kernelspec": {
      "display_name": "Python 3",
      "language": "python",
      "name": "python3"
    },
    "language_info": {
      "codemirror_mode": {
        "name": "ipython",
        "version": 3
      },
      "file_extension": ".py",
      "mimetype": "text/x-python",
      "name": "python",
      "nbconvert_exporter": "python",
      "pygments_lexer": "ipython3",
      "version": "3.7.4"
    },
    "colab": {
      "name": "Assignment 4 - Python AdvancedDONE.ipynb",
      "provenance": [],
      "collapsed_sections": [],
      "include_colab_link": true
    }
  },
  "cells": [
    {
      "cell_type": "markdown",
      "metadata": {
        "id": "view-in-github",
        "colab_type": "text"
      },
      "source": [
        "<a href=\"https://colab.research.google.com/github/c17hawke/iNeuronAssignments/blob/master/Assignment_4_Python_AdvancedDONE.ipynb\" target=\"_parent\"><img src=\"https://colab.research.google.com/assets/colab-badge.svg\" alt=\"Open In Colab\"/></a>"
      ]
    },
    {
      "cell_type": "markdown",
      "metadata": {
        "id": "nFXazb-UcDBc",
        "colab_type": "text"
      },
      "source": [
        "# Assignment 4 Questions"
      ]
    },
    {
      "cell_type": "markdown",
      "metadata": {
        "id": "kl8cWi3xcDBg",
        "colab_type": "text"
      },
      "source": [
        "## Problem Statement"
      ]
    },
    {
      "cell_type": "markdown",
      "metadata": {
        "id": "emIZ8MITcDBi",
        "colab_type": "text"
      },
      "source": [
        "Q.1 Given a sequence of n values x1, x2, ..., xn and a window size k>0, \n",
        "the k-th moving average of the given sequence is defined as follows:\n",
        "\n",
        "The moving average sequence has n-k+1 elements as shown below.\n",
        "The moving averages with k=4 of a ten-value sequence (n=10) is shown below\n",
        "\n",
        "    i 1 2 3 4 5 6 7 8 9 10\n",
        "    ===== == == == == == == == == == ==\n",
        "    Input 10 20 30 40 50 60 70 80 90 100\n",
        "    y1 25 = (10+20+30+40)/4\n",
        "    y2 35 = (20+30+40+50)/4\n",
        "    y3 45 = (30+40+50+60)/4\n",
        "    y4 55 = (40+50+60+70)/4\n",
        "    y5 65 = (50+60+70+80)/4\n",
        "    y6 75 = (60+70+80+90)/4\n",
        "    y7 85 = (70+80+90+100)/4\n",
        "\n",
        "Thus, the moving average sequence has n-k+1=10-4+1=7 values.\n",
        "\n",
        "Write a function to find moving average in an array over a window:\n",
        "\n",
        "Test it over [3, 5, 7, 2, 8, 10, 11, 65, 72, 81, 99, 100, 150] and window of 3."
      ]
    },
    {
      "cell_type": "code",
      "metadata": {
        "id": "xE0YyQXxqE-8",
        "colab_type": "code",
        "colab": {}
      },
      "source": [
        "def moving_average_sequence(arr=None, window=None):\n",
        "    '''moving average sequence generator'''\n",
        "    n = len(arr)\n",
        "    k = window\n",
        "\n",
        "    # using list comprehension to generate the window and rounding up\n",
        "    # the results to upto 2 decimal position\n",
        "    result = [round(sum(arr[i:i+k]) / k, 2) for i in range(n-k+1)]\n",
        "\n",
        "    # iterate through the result list and print it\n",
        "    for idx, val in enumerate(result):\n",
        "        print(f\"y{idx+1:02d} {val}\")\n",
        "    return result"
      ],
      "execution_count": 0,
      "outputs": []
    },
    {
      "cell_type": "code",
      "metadata": {
        "id": "qfHgH9NIrSH0",
        "colab_type": "code",
        "outputId": "aea48542-e36d-47e0-ed90-b5a943f93ad6",
        "colab": {
          "base_uri": "https://localhost:8080/",
          "height": 134
        }
      },
      "source": [
        "arr1 = [10, 20, 30, 40, 50, 60, 70, 80, 90, 100]\n",
        "k1 = 4 # window size\n",
        "_ = moving_average_sequence(arr=arr1, window=k1)"
      ],
      "execution_count": 2,
      "outputs": [
        {
          "output_type": "stream",
          "text": [
            "y01 25.0\n",
            "y02 35.0\n",
            "y03 45.0\n",
            "y04 55.0\n",
            "y05 65.0\n",
            "y06 75.0\n",
            "y07 85.0\n"
          ],
          "name": "stdout"
        }
      ]
    },
    {
      "cell_type": "code",
      "metadata": {
        "id": "-vWj5LsJsJGN",
        "colab_type": "code",
        "outputId": "c26df55d-c18f-4685-b6e4-7f65a3acbd2d",
        "colab": {
          "base_uri": "https://localhost:8080/",
          "height": 202
        }
      },
      "source": [
        "arr2 = [3, 5, 7, 2, 8, 10, 11, 65, 72, 81, 99, 100, 150]\n",
        "k2 = 3 # window size\n",
        "_ = moving_average_sequence(arr=arr2, window=k2)"
      ],
      "execution_count": 3,
      "outputs": [
        {
          "output_type": "stream",
          "text": [
            "y01 5.0\n",
            "y02 4.67\n",
            "y03 5.67\n",
            "y04 6.67\n",
            "y05 9.67\n",
            "y06 28.67\n",
            "y07 49.33\n",
            "y08 72.67\n",
            "y09 84.0\n",
            "y10 93.33\n",
            "y11 116.33\n"
          ],
          "name": "stdout"
        }
      ]
    },
    {
      "cell_type": "markdown",
      "metadata": {
        "id": "VW0DriPGcDBs",
        "colab_type": "text"
      },
      "source": [
        "---\n",
        "Q.2 How-to-count-distance-to-the-previous-zero\n",
        "For each value, count the difference back to the previous zero (or the start of the Series,\n",
        "whichever is closer)\n",
        "create a new column 'Y'\n",
        "Consider a DataFrame df where there is an integer column 'X'\n",
        "    \n",
        "    import pandas as pd\n",
        "    df = pd.DataFrame({'X': [7, 2, 0, 3, 4, 2, 5, 0, 3, 4]})"
      ]
    },
    {
      "cell_type": "code",
      "metadata": {
        "id": "PDzP_ZDGcDBu",
        "colab_type": "code",
        "colab": {}
      },
      "source": [
        "import pandas as pd\n",
        "df = pd.DataFrame({'X': [7, 2, 0, 3, 4, 2, 5, 0, 3, 4]})"
      ],
      "execution_count": 0,
      "outputs": []
    },
    {
      "cell_type": "code",
      "metadata": {
        "id": "4MyAgXUwkBW-",
        "colab_type": "code",
        "outputId": "8dfd5ca5-1038-4149-9d5e-7eebdd54e82e",
        "colab": {
          "base_uri": "https://localhost:8080/",
          "height": 343
        }
      },
      "source": [
        "dist = 0 # dist variable initialize to zero\n",
        "temp = [] # temp list to store the distance from zero\n",
        "\n",
        "# enumerate through the df['X'] column to generate the dist\n",
        "for _ , val in enumerate(df.X):\n",
        "    # increment dist for non zero case -\n",
        "    if val:\n",
        "        dist += 1\n",
        "        temp.append(dist)\n",
        "    # reset dist to zero for zero case -\n",
        "    else:\n",
        "        dist = 0\n",
        "        temp.append(dist)\n",
        "\n",
        "# create an output column Y in dist for distance from 0 storage\n",
        "df[\"Y\"] = temp\n",
        "df"
      ],
      "execution_count": 5,
      "outputs": [
        {
          "output_type": "execute_result",
          "data": {
            "text/html": [
              "<div>\n",
              "<style scoped>\n",
              "    .dataframe tbody tr th:only-of-type {\n",
              "        vertical-align: middle;\n",
              "    }\n",
              "\n",
              "    .dataframe tbody tr th {\n",
              "        vertical-align: top;\n",
              "    }\n",
              "\n",
              "    .dataframe thead th {\n",
              "        text-align: right;\n",
              "    }\n",
              "</style>\n",
              "<table border=\"1\" class=\"dataframe\">\n",
              "  <thead>\n",
              "    <tr style=\"text-align: right;\">\n",
              "      <th></th>\n",
              "      <th>X</th>\n",
              "      <th>Y</th>\n",
              "    </tr>\n",
              "  </thead>\n",
              "  <tbody>\n",
              "    <tr>\n",
              "      <th>0</th>\n",
              "      <td>7</td>\n",
              "      <td>1</td>\n",
              "    </tr>\n",
              "    <tr>\n",
              "      <th>1</th>\n",
              "      <td>2</td>\n",
              "      <td>2</td>\n",
              "    </tr>\n",
              "    <tr>\n",
              "      <th>2</th>\n",
              "      <td>0</td>\n",
              "      <td>0</td>\n",
              "    </tr>\n",
              "    <tr>\n",
              "      <th>3</th>\n",
              "      <td>3</td>\n",
              "      <td>1</td>\n",
              "    </tr>\n",
              "    <tr>\n",
              "      <th>4</th>\n",
              "      <td>4</td>\n",
              "      <td>2</td>\n",
              "    </tr>\n",
              "    <tr>\n",
              "      <th>5</th>\n",
              "      <td>2</td>\n",
              "      <td>3</td>\n",
              "    </tr>\n",
              "    <tr>\n",
              "      <th>6</th>\n",
              "      <td>5</td>\n",
              "      <td>4</td>\n",
              "    </tr>\n",
              "    <tr>\n",
              "      <th>7</th>\n",
              "      <td>0</td>\n",
              "      <td>0</td>\n",
              "    </tr>\n",
              "    <tr>\n",
              "      <th>8</th>\n",
              "      <td>3</td>\n",
              "      <td>1</td>\n",
              "    </tr>\n",
              "    <tr>\n",
              "      <th>9</th>\n",
              "      <td>4</td>\n",
              "      <td>2</td>\n",
              "    </tr>\n",
              "  </tbody>\n",
              "</table>\n",
              "</div>"
            ],
            "text/plain": [
              "   X  Y\n",
              "0  7  1\n",
              "1  2  2\n",
              "2  0  0\n",
              "3  3  1\n",
              "4  4  2\n",
              "5  2  3\n",
              "6  5  4\n",
              "7  0  0\n",
              "8  3  1\n",
              "9  4  2"
            ]
          },
          "metadata": {
            "tags": []
          },
          "execution_count": 5
        }
      ]
    },
    {
      "cell_type": "markdown",
      "metadata": {
        "id": "Y73SvYtpcDBy",
        "colab_type": "text"
      },
      "source": [
        "---\n",
        "Q.3 Create a DatetimeIndex that contains each business day of 2015 and use it to index a Series of\n",
        "random numbers."
      ]
    },
    {
      "cell_type": "code",
      "metadata": {
        "id": "XqHVITZ8cDB0",
        "colab_type": "code",
        "colab": {}
      },
      "source": [
        "import numpy as np"
      ],
      "execution_count": 0,
      "outputs": []
    },
    {
      "cell_type": "code",
      "metadata": {
        "id": "zOIySY7yjOzQ",
        "colab_type": "code",
        "outputId": "72f7e812-7fce-4eee-8e36-24c2ea1ff402",
        "colab": {
          "base_uri": "https://localhost:8080/",
          "height": 402
        }
      },
      "source": [
        "# save dates with freq = business days between given range of dates\n",
        "dates = pd.date_range('2015-01-01','2015-12-31', freq='B') \n",
        "\n",
        "# save the size of dates generated above\n",
        "size = len(dates)\n",
        "\n",
        "# generate random numbers based on the size of dates column\n",
        "# and create a dictionary\n",
        "d = {'dates': dates, \"random_data\":np.random.randn(size)}\n",
        "\n",
        "# generate a data frame based on above dictionary\n",
        "df = pd.DataFrame(data=d)\n",
        "df"
      ],
      "execution_count": 7,
      "outputs": [
        {
          "output_type": "execute_result",
          "data": {
            "text/html": [
              "<div>\n",
              "<style scoped>\n",
              "    .dataframe tbody tr th:only-of-type {\n",
              "        vertical-align: middle;\n",
              "    }\n",
              "\n",
              "    .dataframe tbody tr th {\n",
              "        vertical-align: top;\n",
              "    }\n",
              "\n",
              "    .dataframe thead th {\n",
              "        text-align: right;\n",
              "    }\n",
              "</style>\n",
              "<table border=\"1\" class=\"dataframe\">\n",
              "  <thead>\n",
              "    <tr style=\"text-align: right;\">\n",
              "      <th></th>\n",
              "      <th>dates</th>\n",
              "      <th>random_data</th>\n",
              "    </tr>\n",
              "  </thead>\n",
              "  <tbody>\n",
              "    <tr>\n",
              "      <th>0</th>\n",
              "      <td>2015-01-01</td>\n",
              "      <td>0.503709</td>\n",
              "    </tr>\n",
              "    <tr>\n",
              "      <th>1</th>\n",
              "      <td>2015-01-02</td>\n",
              "      <td>-1.181752</td>\n",
              "    </tr>\n",
              "    <tr>\n",
              "      <th>2</th>\n",
              "      <td>2015-01-05</td>\n",
              "      <td>-1.204178</td>\n",
              "    </tr>\n",
              "    <tr>\n",
              "      <th>3</th>\n",
              "      <td>2015-01-06</td>\n",
              "      <td>-0.482599</td>\n",
              "    </tr>\n",
              "    <tr>\n",
              "      <th>4</th>\n",
              "      <td>2015-01-07</td>\n",
              "      <td>-1.552708</td>\n",
              "    </tr>\n",
              "    <tr>\n",
              "      <th>...</th>\n",
              "      <td>...</td>\n",
              "      <td>...</td>\n",
              "    </tr>\n",
              "    <tr>\n",
              "      <th>256</th>\n",
              "      <td>2015-12-25</td>\n",
              "      <td>1.596714</td>\n",
              "    </tr>\n",
              "    <tr>\n",
              "      <th>257</th>\n",
              "      <td>2015-12-28</td>\n",
              "      <td>1.024899</td>\n",
              "    </tr>\n",
              "    <tr>\n",
              "      <th>258</th>\n",
              "      <td>2015-12-29</td>\n",
              "      <td>-1.150647</td>\n",
              "    </tr>\n",
              "    <tr>\n",
              "      <th>259</th>\n",
              "      <td>2015-12-30</td>\n",
              "      <td>-1.016180</td>\n",
              "    </tr>\n",
              "    <tr>\n",
              "      <th>260</th>\n",
              "      <td>2015-12-31</td>\n",
              "      <td>0.859448</td>\n",
              "    </tr>\n",
              "  </tbody>\n",
              "</table>\n",
              "<p>261 rows × 2 columns</p>\n",
              "</div>"
            ],
            "text/plain": [
              "         dates  random_data\n",
              "0   2015-01-01     0.503709\n",
              "1   2015-01-02    -1.181752\n",
              "2   2015-01-05    -1.204178\n",
              "3   2015-01-06    -0.482599\n",
              "4   2015-01-07    -1.552708\n",
              "..         ...          ...\n",
              "256 2015-12-25     1.596714\n",
              "257 2015-12-28     1.024899\n",
              "258 2015-12-29    -1.150647\n",
              "259 2015-12-30    -1.016180\n",
              "260 2015-12-31     0.859448\n",
              "\n",
              "[261 rows x 2 columns]"
            ]
          },
          "metadata": {
            "tags": []
          },
          "execution_count": 7
        }
      ]
    }
  ]
}
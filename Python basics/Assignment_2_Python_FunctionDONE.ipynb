{
 "cells": [
  {
   "cell_type": "markdown",
   "metadata": {
    "colab_type": "text",
    "id": "tjWpSJzO3-1h"
   },
   "source": [
    "# TEST FUNCTION TO CHECK THE RESULTS \n",
    "## to compare results of in built functions and custom functions\n",
    "[NOTE: THIS IS NOT A PART OF ASSIGNMENT]"
   ]
  },
  {
   "cell_type": "code",
   "execution_count": 1,
   "metadata": {
    "colab": {},
    "colab_type": "code",
    "id": "eJpg9Ep6e0ZW"
   },
   "outputs": [],
   "source": [
    "class TestCustomFunctions:\n",
    "    '''class to test custom functions with in-built functions'''\n",
    "    def __init__(self, iterable=None, testFunctions=None, \n",
    "                 myCustomFunc=None, inbuiltFunc=None):\n",
    "        self.iterable = iterable # array \n",
    "        self.testFunctions = testFunctions # array of functions to apply\n",
    "        self.myCustomFunc = myCustomFunc # my function to test\n",
    "        self.inbuiltFunc = inbuiltFunc # in built python function\n",
    "\n",
    "    def getSolution(self, testFunc):\n",
    "        '''compare solution of custom and inbuilt function'''\n",
    "        # store result of custom function\n",
    "        myResult = self.myCustomFunc(f=testFunc, array=self.iterable)\n",
    "        \n",
    "        # store result of in built function\n",
    "        inbuiltFunctionResult = self.inbuiltFunc(testFunc, self.iterable)\n",
    "        \n",
    "        # check if filter function then for inbuilt function\n",
    "        # one has to return result as a list\n",
    "        if self.inbuiltFunc == filter:\n",
    "            return myResult == list(inbuiltFunctionResult)\n",
    "        return myResult == inbuiltFunctionResult\n",
    "\n",
    "    def test(self):\n",
    "        '''\n",
    "        assertion test to compare results\n",
    "        of custom and inbuilt functions\n",
    "        '''\n",
    "        # install nose lib if not installed\n",
    "        try:\n",
    "            from nose.tools import assert_equal\n",
    "        except:\n",
    "            print(\"installing nose library to proceed further\")\n",
    "            import os\n",
    "            os.system(\"pip install nose\")\n",
    "            # now load nose lib as it got failed before\n",
    "            from nose.tools import assert_equal\n",
    "            \n",
    "        for testFunc in self.testFunctions:\n",
    "            print(f\"result for {testFunc}\")\n",
    "            assert_equal(self.getSolution(testFunc), True)\n",
    "            print(\"--\"*20)\n",
    "        print(\"ALL TEST CASES PASSED !!\")\n"
   ]
  },
  {
   "cell_type": "markdown",
   "metadata": {
    "colab_type": "text",
    "id": "ODZyMw1J4X_h"
   },
   "source": [
    "# **MAIN ASSIGNMENT** - "
   ]
  },
  {
   "cell_type": "markdown",
   "metadata": {
    "colab_type": "text",
    "id": "NOOcl1Mtf1Pd"
   },
   "source": [
    "## Problem Statement"
   ]
  },
  {
   "cell_type": "markdown",
   "metadata": {
    "colab_type": "text",
    "id": "g_olc26Ff1Pj"
   },
   "source": [
    "---\n",
    "###Q.1 Write a Python Program to implement your own myreduce() function which works exactly like Python's built-in function reduce()\n"
   ]
  },
  {
   "cell_type": "code",
   "execution_count": 2,
   "metadata": {
    "colab": {
     "base_uri": "https://localhost:8080/",
     "height": 221
    },
    "colab_type": "code",
    "id": "1GLjUb2if1Pm",
    "outputId": "17319285-d602-486b-b03c-dcea8004421a"
   },
   "outputs": [
    {
     "name": "stdout",
     "output_type": "stream",
     "text": [
      "addition accumulation result \n",
      "= 6 \n",
      "\n",
      "result of division \n",
      "= 0.16666666666666666 \n",
      "\n",
      "result of comparision operator '>' \n",
      "= False \n",
      "\n",
      "result of lambda function to get the exponential value \n",
      "= 1 \n",
      "\n"
     ]
    }
   ],
   "source": [
    "def addition(x,y):\n",
    "    return x+y\n",
    "\n",
    "def division(x,y):\n",
    "    return x/y\n",
    "\n",
    "def greaterThan(x, y):\n",
    "    return x > y\n",
    "\n",
    "def myreduce(f = None, array=None):\n",
    "    '''custom reduce function'''\n",
    "    # keep the first element of array in the accumulator\n",
    "    accumulator = array[0]\n",
    "    # iterate over the array to accumulate the result in accumulator\n",
    "    for i in array[1:]:\n",
    "        accumulator = f(accumulator, i)\n",
    "    # return the accumulated result\n",
    "    return accumulator\n",
    "\n",
    "# test array \n",
    "arr = [1,2,3]\n",
    "add_result = myreduce(f = addition, array=arr)\n",
    "print(f\"addition accumulation result \\n= {add_result}\", \"\\n\")\n",
    "\n",
    "div_result = myreduce(f = division, array=arr)\n",
    "print(f\"result of division \\n= {div_result}\", \"\\n\")\n",
    "\n",
    "greater_than_result = myreduce(f = greaterThan, array=arr)\n",
    "print(f\"result of comparision operator '>' \\n= {greater_than_result}\", \"\\n\")\n",
    "\n",
    "using_lambda_function = myreduce( f = lambda x, y: x**y, array=arr)\n",
    "print(f\"result of lambda function to get the exponential value \\n= {using_lambda_function}\", \"\\n\")\n"
   ]
  },
  {
   "cell_type": "code",
   "execution_count": 3,
   "metadata": {
    "colab": {
     "base_uri": "https://localhost:8080/",
     "height": 170
    },
    "colab_type": "code",
    "id": "5CS2q6ffs5ik",
    "outputId": "21536842-0f01-4d4c-a39c-bdde5bd4dc1c"
   },
   "outputs": [
    {
     "name": "stdout",
     "output_type": "stream",
     "text": [
      "verifying my custom reduce function w.r.t. in built reduce function...\n",
      "\n",
      "result for <function addition at 0x7fd108eec598>\n",
      "----------------------------------------\n",
      "result for <function division at 0x7fd108eec048>\n",
      "----------------------------------------\n",
      "result for <function greaterThan at 0x7fd108eec1e0>\n",
      "----------------------------------------\n",
      "ALL TEST CASES PASSED !!\n"
     ]
    }
   ],
   "source": [
    "from functools import reduce\n",
    "\n",
    "array = [1,2,3]\n",
    "\n",
    "testingReduce = TestCustomFunctions(iterable = array,\n",
    "                                    testFunctions = [addition, division, greaterThan],\n",
    "                                    myCustomFunc = myreduce,\n",
    "                                    inbuiltFunc = reduce)\n",
    "print(\"verifying my custom reduce function w.r.t. in built reduce function...\\n\")\n",
    "testingReduce.test()"
   ]
  },
  {
   "cell_type": "markdown",
   "metadata": {
    "colab_type": "text",
    "id": "QWR0dk9bf1Pu"
   },
   "source": [
    "---\n",
    "### Q.2 Write a Python program to implement your own myfilter() function which works exactly like Python's built-in function filter()"
   ]
  },
  {
   "cell_type": "code",
   "execution_count": 4,
   "metadata": {
    "colab": {
     "base_uri": "https://localhost:8080/",
     "height": 170
    },
    "colab_type": "code",
    "id": "I6dTDdgWf1Px",
    "outputId": "d860f80b-6de3-4d6c-8127-e0dfb73b31cd"
   },
   "outputs": [
    {
     "name": "stdout",
     "output_type": "stream",
     "text": [
      "filtering odd nos\n",
      "=[1, 3, 5, 7, 9]\n",
      "\n",
      "filtering even result\n",
      "=[2, 4, 6, 8, 0]\n",
      "\n",
      "filtering vowels result\n",
      "=['e', 'o']\n",
      "\n"
     ]
    }
   ],
   "source": [
    "def is_odd_no(x):\n",
    "    return x%2!=0\n",
    "\n",
    "def is_even_no(x):\n",
    "    return x%2==0\n",
    "\n",
    "def is_vowel(x):\n",
    "    vowel = ['a', 'e', 'i', 'o', 'u']\n",
    "    if x in vowel:\n",
    "        return True\n",
    "    return False\n",
    "\n",
    "def myFilter(f = None, array = None):\n",
    "    '''custom filter function'''\n",
    "    # init empty array for results\n",
    "    results = []\n",
    "\n",
    "    # iterate over input array for filtering \n",
    "    for i in array:\n",
    "        if f(i):\n",
    "            results.append(i)\n",
    "    return results\n",
    "\n",
    "arr = [1,2,3,4,5,6,7,8,9,0]\n",
    "odd_result = myFilter(f = is_odd_no, array = arr)\n",
    "print(f\"filtering odd nos\\n={odd_result}\\n\")\n",
    "\n",
    "even_result = myFilter(f = is_even_no, array = arr)\n",
    "print(f\"filtering even result\\n={even_result}\\n\")\n",
    "\n",
    "alphaArray = list(\"hello\")\n",
    "alpha_result = myFilter(f = is_vowel, array = alphaArray)\n",
    "print(f\"filtering vowels result\\n={alpha_result}\\n\")"
   ]
  },
  {
   "cell_type": "code",
   "execution_count": 5,
   "metadata": {
    "colab": {
     "base_uri": "https://localhost:8080/",
     "height": 102
    },
    "colab_type": "code",
    "id": "1EjVexNUt4li",
    "outputId": "bcd29d0f-40b7-4c51-a586-b131aaae168e"
   },
   "outputs": [
    {
     "name": "stdout",
     "output_type": "stream",
     "text": [
      "result for <function is_odd_no at 0x7fd108eecae8>\n",
      "----------------------------------------\n",
      "result for <function is_even_no at 0x7fd108eec8c8>\n",
      "----------------------------------------\n",
      "ALL TEST CASES PASSED !!\n"
     ]
    }
   ],
   "source": [
    "# veriying results of my custom filter wrt to inbuilt filter function\n",
    "\n",
    "# testing for numerical data\n",
    "\n",
    "arr = [1,2,3,4,5,6,7,8,9,0]\n",
    "testingFilter = TestCustomFunctions(iterable = arr, \n",
    "                                    testFunctions = [is_odd_no, is_even_no],\n",
    "                                    myCustomFunc = myFilter,\n",
    "                                    inbuiltFunc = filter)\n",
    "testingFilter.test()"
   ]
  },
  {
   "cell_type": "code",
   "execution_count": 6,
   "metadata": {
    "colab": {
     "base_uri": "https://localhost:8080/",
     "height": 68
    },
    "colab_type": "code",
    "id": "8GzOEv7ov1KI",
    "outputId": "cc76bee9-2ac5-47ce-b012-81b0803fac14"
   },
   "outputs": [
    {
     "name": "stdout",
     "output_type": "stream",
     "text": [
      "result for <function is_vowel at 0x7fd108eec950>\n",
      "----------------------------------------\n",
      "ALL TEST CASES PASSED !!\n"
     ]
    }
   ],
   "source": [
    "# veriying results of my custom filter wrt to inbuilt filter function\n",
    "\n",
    "# testing for strings or object data\n",
    "alphaArray = list(\"hello world\")\n",
    "testingFilter = TestCustomFunctions(iterable = alphaArray, \n",
    "                                    testFunctions = [is_vowel],\n",
    "                                    myCustomFunc = myFilter,\n",
    "                                    inbuiltFunc = filter)\n",
    "testingFilter.test()"
   ]
  },
  {
   "cell_type": "markdown",
   "metadata": {
    "colab_type": "text",
    "id": "DwaA40hEf1P3"
   },
   "source": [
    "---\n",
    "### Q.3 Implement List comprehensions to produce the following lists. Write List comprehensions to produce the following Lists\n",
    "   \n",
    "    ['A', 'C', 'A', 'D', 'G', 'I', ’L’, ‘ D’]\n",
    "   \n",
    "    ['x', 'xx', 'xxx', 'xxxx', 'y', 'yy', 'yyy', 'yyyy', 'z', 'zz', 'zzz', 'zzzz']\n",
    "\n",
    "    ['x', 'y', 'z', 'xx', 'yy', 'zz', 'xxx', 'yyy', 'zzz', 'xxxx', 'yyyy', 'zzzz']\n",
    "    \n",
    "    [[2], [3], [4], [3], [4], [5], [4], [5], [6]]\n",
    "\n",
    "    [[2, 3, 4, 5], [3, 4, 5, 6], [4, 5, 6, 7], [5, 6, 7, 8]]\n",
    "\n",
    "    [(1, 1), (2, 1), (3, 1), (1, 2), (2, 2), (3, 2), (1, 3), (2, 3), (3, 3)]"
   ]
  },
  {
   "cell_type": "code",
   "execution_count": 7,
   "metadata": {
    "colab": {
     "base_uri": "https://localhost:8080/",
     "height": 34
    },
    "colab_type": "code",
    "id": "fwqvW_aoOlJS",
    "outputId": "829487ca-5a5b-4b2b-a908-7dfc85338d05"
   },
   "outputs": [
    {
     "data": {
      "text/plain": [
       "['A', 'C', 'A', 'D', 'G', 'I', 'L', 'D']"
      ]
     },
     "execution_count": 7,
     "metadata": {},
     "output_type": "execute_result"
    }
   ],
   "source": [
    "# 1st sequence\n",
    "str1 = 'ACADGILD'\n",
    "[i for i in str1]"
   ]
  },
  {
   "cell_type": "code",
   "execution_count": 8,
   "metadata": {
    "colab": {
     "base_uri": "https://localhost:8080/",
     "height": 34
    },
    "colab_type": "code",
    "id": "QkS8yG-bf1P4",
    "outputId": "3c78678c-91c7-422e-e6cb-de198aff1d3a"
   },
   "outputs": [
    {
     "data": {
      "text/plain": [
       "['x', 'xx', 'xxx', 'xxxx', 'y', 'yy', 'yyy', 'yyyy', 'z', 'zz', 'zzz', 'zzzz']"
      ]
     },
     "execution_count": 8,
     "metadata": {},
     "output_type": "execute_result"
    }
   ],
   "source": [
    "# 2nd sequence\n",
    "lst = list(\"xyz\")\n",
    "[letter*i for letter in lst for i in range(1,5) ]"
   ]
  },
  {
   "cell_type": "code",
   "execution_count": 9,
   "metadata": {
    "colab": {
     "base_uri": "https://localhost:8080/",
     "height": 34
    },
    "colab_type": "code",
    "id": "T5WpyXwbIVHr",
    "outputId": "a2421a4e-2bd2-4c9d-a7d8-d7ca072fb746"
   },
   "outputs": [
    {
     "data": {
      "text/plain": [
       "['x', 'y', 'z', 'xx', 'yy', 'zz', 'xxx', 'yyy', 'zzz', 'xxxx', 'yyyy', 'zzzz']"
      ]
     },
     "execution_count": 9,
     "metadata": {},
     "output_type": "execute_result"
    }
   ],
   "source": [
    "# 3rd sequence \n",
    "lst = list(\"xyz\")\n",
    "\n",
    "[letter*i for i in range(1,5) for letter in lst]"
   ]
  },
  {
   "cell_type": "code",
   "execution_count": 10,
   "metadata": {
    "colab": {
     "base_uri": "https://localhost:8080/",
     "height": 34
    },
    "colab_type": "code",
    "id": "BRpmuikKOnEm",
    "outputId": "57f7209f-b9fe-40dc-8c29-5cf3f11323bd"
   },
   "outputs": [
    {
     "data": {
      "text/plain": [
       "[[2], [3], [4], [3], [4], [5], [4], [5], [6]]"
      ]
     },
     "execution_count": 10,
     "metadata": {},
     "output_type": "execute_result"
    }
   ],
   "source": [
    "# 4th sequence\n",
    "[[i+k] for i in range(2, 5) for k in range(3)]"
   ]
  },
  {
   "cell_type": "code",
   "execution_count": 11,
   "metadata": {
    "colab": {
     "base_uri": "https://localhost:8080/",
     "height": 34
    },
    "colab_type": "code",
    "id": "EwmeghHXOm3n",
    "outputId": "1727cf1d-a945-43da-e5b4-4857414ec72d"
   },
   "outputs": [
    {
     "data": {
      "text/plain": [
       "[[2, 3, 4, 5], [3, 4, 5, 6], [4, 5, 6, 7], [5, 6, 7, 8]]"
      ]
     },
     "execution_count": 11,
     "metadata": {},
     "output_type": "execute_result"
    }
   ],
   "source": [
    "# 5th sequence\n",
    "[[i+k for i in range(2,6)] for k in range(4)]"
   ]
  },
  {
   "cell_type": "code",
   "execution_count": 12,
   "metadata": {
    "colab": {
     "base_uri": "https://localhost:8080/",
     "height": 34
    },
    "colab_type": "code",
    "id": "Ix7XSr9pOmbS",
    "outputId": "85aac673-efc4-4ad2-cb5e-1ef62ef9419e"
   },
   "outputs": [
    {
     "data": {
      "text/plain": [
       "[(1, 1), (2, 1), (3, 1), (1, 2), (2, 2), (3, 2), (1, 3), (2, 3), (3, 3)]"
      ]
     },
     "execution_count": 12,
     "metadata": {},
     "output_type": "execute_result"
    }
   ],
   "source": [
    "# 6th sequence\n",
    "lst = list(range(1,4))\n",
    "[(k ,i) for i in range(1,4) for k in range(1,4)]"
   ]
  },
  {
   "cell_type": "markdown",
   "metadata": {
    "colab_type": "text",
    "id": "AfGqLd2rf1P9"
   },
   "source": [
    "---\n",
    "### Q.4 Implement a function longestWord() that takes a list of words and returns the longest one."
   ]
  },
  {
   "cell_type": "code",
   "execution_count": 13,
   "metadata": {
    "colab": {
     "base_uri": "https://localhost:8080/",
     "height": 34
    },
    "colab_type": "code",
    "id": "RtNj75lff1P-",
    "outputId": "637c89cb-334c-4da6-e7fe-f2256637f776"
   },
   "outputs": [
    {
     "name": "stdout",
     "output_type": "stream",
     "text": [
      "artificial_intelligence\n"
     ]
    }
   ],
   "source": [
    "def longestWord(array=None):\n",
    "    max_len_word = \"\" # empty string to save result\n",
    "    for word in array:\n",
    "        if len(word) > len(max_len_word):\n",
    "            max_len_word = word\n",
    "    return max_len_word\n",
    "\n",
    "arr = [\"I\", \"am\", \"Sunny\", \"I\", \"am\", \"an\", \"artificial_intelligence\", \"enthusiasts\" ]\n",
    "result = longestWord(array= arr)\n",
    "print(result)"
   ]
  },
  {
   "cell_type": "markdown",
   "metadata": {
    "colab_type": "text",
    "id": "P7O64IAjf1QD"
   },
   "source": [
    "---\n",
    "### Q.5 Write a Python Program(with class concepts) to find the area of the triangle using the below formula.\n",
    "\n",
    "### area = (s*(s-a)*(s-b)*(s-c)) *** 0.5\n",
    "\n",
    "### Function to take the length of the sides of triangle from user should be defined in the parent class and function to calculate the area should be defined in subclass."
   ]
  },
  {
   "cell_type": "code",
   "execution_count": 14,
   "metadata": {
    "colab": {
     "base_uri": "https://localhost:8080/",
     "height": 34
    },
    "colab_type": "code",
    "id": "dshg-r4uf1QE",
    "outputId": "988fe0d2-1e2f-42a8-f3f9-78fb9efb7f9d"
   },
   "outputs": [
    {
     "name": "stdout",
     "output_type": "stream",
     "text": [
      "Area of the triangle = 6.0 unit²\n"
     ]
    }
   ],
   "source": [
    "class Dimensions:\n",
    "    '''Class to define sides of a triangle'''\n",
    "    def __init__(self, sideA, sideB, sideC):\n",
    "        self.a = sideA\n",
    "        self.b = sideB\n",
    "        self.c = sideC\n",
    "\n",
    "    def semiperimeter(self):\n",
    "        # calculate semi perimeter\n",
    "        s = (self.a + self.b + self.c)/2\n",
    "        return s\n",
    "\n",
    "class Area(Dimensions):\n",
    "    '''\n",
    "    Class to calculate the area of triangle\n",
    "    based on Heron's Formula\n",
    "    who's side are defined in Dimensions class\n",
    "    '''\n",
    "    def __init__(self, *args):\n",
    "         super().__init__(*args)\n",
    "\n",
    "    def calculate_area(self):\n",
    "        # get the semi perimeter from Dimension parent class\n",
    "        s = super().semiperimeter()\n",
    "        # calculate area\n",
    "        area = (s*(s-self.a)*(s-self.b)*(s-self.c)) ** 0.5\n",
    "        print(f\"Area of the triangle = {area} unit\\u00b2\")\n",
    "        return area\n",
    "\n",
    "area = Area(3,4,5)\n",
    "_ = area.calculate_area()"
   ]
  },
  {
   "cell_type": "markdown",
   "metadata": {
    "colab_type": "text",
    "id": "q29JA-6Of1QK"
   },
   "source": [
    "---\n",
    "### Q.6 Write a function filter_long_words() that takes a list of words and an integer n and returns the list of words that are longer than n."
   ]
  },
  {
   "cell_type": "code",
   "execution_count": 15,
   "metadata": {
    "colab": {
     "base_uri": "https://localhost:8080/",
     "height": 51
    },
    "colab_type": "code",
    "id": "u15YGa5cf1QM",
    "outputId": "60b55ff9-a4eb-4658-fa32-9b5a53ffb6be"
   },
   "outputs": [
    {
     "name": "stdout",
     "output_type": "stream",
     "text": [
      "longest words are = \n",
      "['hell-o-world', 'beautiful']\n"
     ]
    }
   ],
   "source": [
    "def filter_long_words(N=None, array = None):\n",
    "    results = [] # init empty array for results\n",
    "    for i in array:\n",
    "        if len(i) > N:\n",
    "            results.append(i)\n",
    "    return results\n",
    "\n",
    "arr = ['hell-o-world', 'life', 'is', 'beautiful']\n",
    "n = 5\n",
    "result = filter_long_words(N = n, array = arr)\n",
    "print(f\"longest words are = \\n{result}\")"
   ]
  },
  {
   "cell_type": "markdown",
   "metadata": {
    "colab_type": "text",
    "id": "LK6Y-3uff1QR"
   },
   "source": [
    "---\n",
    "### Q.7 Write a Python program using function concept that maps list of words into a list of integers representing the lengths of the corresponding words.\n",
    "    \n",
    "    Hint: If a list [ ab,cde,erty] is passed on to the python function output should come as [2,3,4]\n",
    "    Here 2,3 and 4 are the lengths of the words in the list."
   ]
  },
  {
   "cell_type": "code",
   "execution_count": 16,
   "metadata": {
    "colab": {
     "base_uri": "https://localhost:8080/",
     "height": 51
    },
    "colab_type": "code",
    "id": "UOHZuzeMf1QT",
    "outputId": "d615bd39-15ea-40cd-a3a7-00c2adce59bc"
   },
   "outputs": [
    {
     "name": "stdout",
     "output_type": "stream",
     "text": [
      "output = [2, 3, 4]\n",
      "\n"
     ]
    }
   ],
   "source": [
    "def get_length_of_words(array=None):\n",
    "    return [len(word) for word in array]\n",
    "\n",
    "arr = [ \"ab\", \"cde\", \"erty\"]\n",
    "result = get_length_of_words(arr)\n",
    "print(f\"output = {result}\\n\")"
   ]
  },
  {
   "cell_type": "markdown",
   "metadata": {
    "colab_type": "text",
    "id": "ZIb8TGMQf1QY"
   },
   "source": [
    "---\n",
    "### Q.8 Write a Python function which takes a character (i.e. a string of length 1) and returns True if it is a vowel, False otherwise."
   ]
  },
  {
   "cell_type": "code",
   "execution_count": 17,
   "metadata": {
    "colab": {
     "base_uri": "https://localhost:8080/",
     "height": 51
    },
    "colab_type": "code",
    "id": "eyORhV-gf1Qa",
    "outputId": "4f9e21a4-9feb-445f-ca76-1ed43aa19401"
   },
   "outputs": [
    {
     "name": "stdout",
     "output_type": "stream",
     "text": [
      "True\n",
      "False\n"
     ]
    }
   ],
   "source": [
    "def is_vowel(x):\n",
    "    vowel = ['a', 'e', 'i', 'o', 'u']\n",
    "    if x in vowel:\n",
    "        return True\n",
    "    return False\n",
    "\n",
    "vowel_check = is_vowel(\"a\")\n",
    "print(vowel_check)\n",
    "\n",
    "vowel_check = is_vowel(\"m\")\n",
    "print(vowel_check)\n"
   ]
  },
  {
   "cell_type": "markdown",
   "metadata": {
    "colab_type": "text",
    "id": "5rrpdQXjf1Qe"
   },
   "source": [
    "## Great job!"
   ]
  }
 ],
 "metadata": {
  "colab": {
   "collapsed_sections": [],
   "name": " DONE without commentsAssignment 2 - Python Function.ipynb",
   "provenance": []
  },
  "kernelspec": {
   "display_name": "Python 3",
   "language": "python",
   "name": "python3"
  },
  "language_info": {
   "codemirror_mode": {
    "name": "ipython",
    "version": 3
   },
   "file_extension": ".py",
   "mimetype": "text/x-python",
   "name": "python",
   "nbconvert_exporter": "python",
   "pygments_lexer": "ipython3",
   "version": "3.6.8"
  }
 },
 "nbformat": 4,
 "nbformat_minor": 1
}

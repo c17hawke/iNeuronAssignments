{
 "cells": [
  {
   "cell_type": "markdown",
   "metadata": {
    "colab_type": "text",
    "id": "hpfA3Gtg2dH4"
   },
   "source": [
    "### 1. Write a program which will find all such numbers which are divisible by 7 but are not a multiple of 5, between 2000 and 3200 (both included). The numbers obtained should be printed in a comma-separated sequence on a single line. "
   ]
  },
  {
   "cell_type": "code",
   "execution_count": 12,
   "metadata": {
    "colab": {
     "base_uri": "https://localhost:8080/",
     "height": 54
    },
    "colab_type": "code",
    "id": "s0wcMzO02dH-",
    "outputId": "9e14b6af-a324-4fec-b835-4294762c00f6"
   },
   "outputs": [
    {
     "name": "stdout",
     "output_type": "stream",
     "text": [
      "2002, 2009, 2016, 2023, 2037, 2044, 2051, 2058, 2072, 2079, 2086, 2093, 2107, 2114, 2121, 2128, 2142, 2149, 2156, 2163, 2177, 2184, 2191, 2198, 2212, 2219, 2226, 2233, 2247, 2254, 2261, 2268, 2282, 2289, 2296, 2303, 2317, 2324, 2331, 2338, 2352, 2359, 2366, 2373, 2387, 2394, 2401, 2408, 2422, 2429, 2436, 2443, 2457, 2464, 2471, 2478, 2492, 2499, 2506, 2513, 2527, 2534, 2541, 2548, 2562, 2569, 2576, 2583, 2597, 2604, 2611, 2618, 2632, 2639, 2646, 2653, 2667, 2674, 2681, 2688, 2702, 2709, 2716, 2723, 2737, 2744, 2751, 2758, 2772, 2779, 2786, 2793, 2807, 2814, 2821, 2828, 2842, 2849, 2856, 2863, 2877, 2884, 2891, 2898, 2912, 2919, 2926, 2933, 2947, 2954, 2961, 2968, 2982, 2989, 2996, 3003, 3017, 3024, 3031, 3038, 3052, 3059, 3066, 3073, 3087, 3094, 3101, 3108, 3122, 3129, 3136, 3143, 3157, 3164, 3171, 3178, 3192, 3199, "
     ]
    }
   ],
   "source": [
    "def getSequence(min_, max_):\n",
    "    for i in range(min_, max_ + 1):\n",
    "        if (i%7==0) and (i%5!=0):\n",
    "            print(i, end=', ')\n",
    "\n",
    "getSequence(2000, 3200)"
   ]
  },
  {
   "cell_type": "markdown",
   "metadata": {
    "colab_type": "text",
    "id": "sbaWfviN2dIJ"
   },
   "source": [
    "### 2. Write a Python program to accept the user's first and last name and then getting them printed in the the reverse order with a space between first name and last name"
   ]
  },
  {
   "cell_type": "code",
   "execution_count": 13,
   "metadata": {
    "colab": {
     "base_uri": "https://localhost:8080/",
     "height": 68
    },
    "colab_type": "code",
    "id": "SQZzn6gy2dIM",
    "outputId": "fbfa6676-4472-4f8b-e38a-7bec4cc2ef16"
   },
   "outputs": [
    {
     "name": "stdout",
     "output_type": "stream",
     "text": [
      "firstName: Sunny\n",
      "lastName: Chandra\n",
      "output: Chandra Sunny\n"
     ]
    }
   ],
   "source": [
    "def print_reverse(firstName, lastName):\n",
    "    print(f\"output: {lastName} {firstName}\")\n",
    "\n",
    "def print_reverse_EACH(firstName, lastName):\n",
    "    \"\"\"This will reverse each word as well\"\"\"\n",
    "    print(f\"output2: {lastName[::-1]} {firstName[::-1]}\")\n",
    "\n",
    "firstName = input(\"firstName: \")\n",
    "lastName = input(\"lastName: \")\n",
    "print_reverse(firstName, lastName)"
   ]
  },
  {
   "cell_type": "code",
   "execution_count": 14,
   "metadata": {
    "colab": {
     "base_uri": "https://localhost:8080/",
     "height": 34
    },
    "colab_type": "code",
    "id": "hett2Wi_VWzx",
    "outputId": "046266cd-36fb-4256-9d10-79c657e976de"
   },
   "outputs": [
    {
     "name": "stdout",
     "output_type": "stream",
     "text": [
      "output2: ardnahC ynnuS\n"
     ]
    }
   ],
   "source": [
    "print_reverse_EACH(firstName, lastName)"
   ]
  },
  {
   "cell_type": "markdown",
   "metadata": {
    "colab_type": "text",
    "id": "449CcGOr2dIV"
   },
   "source": [
    "### 3.Write a Python program to find the volume of a sphere with diameter 12 cm.                                         Formula: V=4/3 * π * r 3 "
   ]
  },
  {
   "cell_type": "code",
   "execution_count": 15,
   "metadata": {
    "colab": {
     "base_uri": "https://localhost:8080/",
     "height": 34
    },
    "colab_type": "code",
    "id": "8pu8K5dx2dIY",
    "outputId": "4a04e885-aca1-46cb-b416-931deab5750d"
   },
   "outputs": [
    {
     "name": "stdout",
     "output_type": "stream",
     "text": [
      "Volume of sphere = 904.78 cubic-cms\n"
     ]
    }
   ],
   "source": [
    "import math\n",
    "def vol_sphere(r=None):\n",
    "    V = (4/3)*(math.pi)*(r**3)\n",
    "    print(f'Volume of sphere = {round(V, 2)} cubic-cms')\n",
    "\n",
    "diameter = 12\n",
    "vol_sphere(r=diameter/2)"
   ]
  },
  {
   "cell_type": "markdown",
   "metadata": {
    "colab_type": "text",
    "id": "830HThuI2dIm"
   },
   "source": [
    "### 4.Write a program which accepts a sequence of comma-separated numbers from console and generate a list. "
   ]
  },
  {
   "cell_type": "code",
   "execution_count": 16,
   "metadata": {
    "colab": {
     "base_uri": "https://localhost:8080/",
     "height": 51
    },
    "colab_type": "code",
    "id": "rATO7eKh2dIp",
    "outputId": "84fc43d4-be80-4ce0-9c7d-40f7ea51d03d"
   },
   "outputs": [
    {
     "name": "stdout",
     "output_type": "stream",
     "text": [
      "enter data separated by commas: 10,20,30,40\n",
      "[10, 20, 30, 40]\n"
     ]
    }
   ],
   "source": [
    "def list_generator(data):\n",
    "    temp = data.split(',')\n",
    "    lst = [int(i) for i in temp]\n",
    "    print(lst)\n",
    "\n",
    "data = input('enter data separated by commas: ')\n",
    "list_generator(data)"
   ]
  },
  {
   "cell_type": "markdown",
   "metadata": {
    "colab_type": "text",
    "id": "Xb0iRBh0O3_9"
   },
   "source": [
    "### 5. Create the below pattern using nested for loop in Python. "
   ]
  },
  {
   "cell_type": "code",
   "execution_count": null,
   "metadata": {
    "colab": {},
    "colab_type": "code",
    "id": "nWlnNj1AO-4U"
   },
   "outputs": [],
   "source": [
    "'''\n",
    "*  \n",
    "* *  \n",
    "* * * \n",
    "* * * *  \n",
    "* * * * *  \n",
    "* * * *  \n",
    "* * *  \n",
    "* *  \n",
    "* \n",
    "'''"
   ]
  },
  {
   "cell_type": "code",
   "execution_count": 17,
   "metadata": {
    "colab": {
     "base_uri": "https://localhost:8080/",
     "height": 187
    },
    "colab_type": "code",
    "id": "jYdXLICUQtSn",
    "outputId": "e23554bb-f914-48b8-b204-720bb3216939"
   },
   "outputs": [
    {
     "name": "stdout",
     "output_type": "stream",
     "text": [
      "\n",
      "* \n",
      "* * \n",
      "* * * \n",
      "* * * * \n",
      "* * * * * \n",
      "* * * * \n",
      "* * * \n",
      "* * \n",
      "* \n"
     ]
    }
   ],
   "source": [
    "def draw_pyramid(N):\n",
    "    for i in range(N):\n",
    "        print(\"* \"*i)\n",
    "    for i in range(N,0,-1):\n",
    "        print(\"* \"*i)\n",
    "\n",
    "draw_pyramid(5)"
   ]
  },
  {
   "cell_type": "markdown",
   "metadata": {
    "colab_type": "text",
    "id": "0NLNPagr2dJF"
   },
   "source": [
    "### 6. Write a Python program to reverse a word after accepting the input from the user. \n",
    " \n",
    "Sample Output: \n",
    " \n",
    "Input word: iNeuron \n",
    " \n",
    "Output: norueNi"
   ]
  },
  {
   "cell_type": "code",
   "execution_count": 18,
   "metadata": {
    "colab": {
     "base_uri": "https://localhost:8080/",
     "height": 51
    },
    "colab_type": "code",
    "id": "Urt-9J112dJM",
    "outputId": "6478da49-9160-4a83-f458-525b652cda12"
   },
   "outputs": [
    {
     "name": "stdout",
     "output_type": "stream",
     "text": [
      "input a word: Sunny\n",
      "output: ynnuS\n"
     ]
    }
   ],
   "source": [
    "def print_reverse(data):\n",
    "    print(f\"output: {data[::-1]}\")\n",
    "\n",
    "data = input(\"input a word: \")\n",
    "print_reverse(data)"
   ]
  },
  {
   "cell_type": "markdown",
   "metadata": {
    "colab_type": "text",
    "id": "cJbpb6ZU2dJT"
   },
   "source": [
    "### 7. Write a Python Program to print the given string in the format specified in the ​sample output. \n",
    " WE, THE PEOPLE OF INDIA, having solemnly resolved to constitute India into a SOVEREIGN, SOCIALIST, SECULAR, DEMOCRATIC REPUBLIC and to secure to all its citizens \n",
    " \n",
    "Sample Output: \n",
    " \n",
    "WE, THE PEOPLE OF INDIA,   having solemnly resolved to constitute India into a SOVEREIGN, !  SOCIALIST, SECULAR, DEMOCRATIC REPUBLIC    and to secure to all its citizens "
   ]
  },
  {
   "cell_type": "code",
   "execution_count": 19,
   "metadata": {
    "colab": {
     "base_uri": "https://localhost:8080/",
     "height": 54
    },
    "colab_type": "code",
    "id": "VqNrs5qH2dJV",
    "outputId": "9ea0401c-17e9-49cb-f7ef-68095bd55c2f"
   },
   "outputs": [
    {
     "name": "stdout",
     "output_type": "stream",
     "text": [
      " WE, THE PEOPLE OF INDIA, having solemnly resolved to constitute India into a SOVEREIGN, !SOCIALIST, SECULAR, DEMOCRATIC REPUBLIC and to secure to all its citizens\n"
     ]
    }
   ],
   "source": [
    "def out(input_data):\n",
    "    out_=input_data.replace('SOCIALIST', '!SOCIALIST')\n",
    "    print(out_)\n",
    "\n",
    "input_data = \" WE, THE PEOPLE OF INDIA, having solemnly resolved to constitute India into a SOVEREIGN, SOCIALIST, SECULAR, DEMOCRATIC REPUBLIC and to secure to all its citizens\"\n",
    "out(input_data)"
   ]
  },
  {
   "cell_type": "code",
   "execution_count": 20,
   "metadata": {
    "colab": {
     "base_uri": "https://localhost:8080/",
     "height": 54
    },
    "colab_type": "code",
    "id": "3fAV80wPVzA1",
    "outputId": "e8dd50c4-394b-4906-aeb4-66dd738929ee"
   },
   "outputs": [
    {
     "name": "stdout",
     "output_type": "stream",
     "text": [
      " WE, THE PEOPLE OF INDIA, having solemnly resolved to constitute India into a SOVEREIGN, !SOCIALIST, SECULAR, DEMOCRATIC REPUBLIC and to secure to all its citizens\n"
     ]
    }
   ],
   "source": [
    "# alternate way - \n",
    "\n",
    "input_data = \" WE, THE PEOPLE OF INDIA, having solemnly resolved to constitute India into a SOVEREIGN, {}SOCIALIST, SECULAR, DEMOCRATIC REPUBLIC and to secure to all its citizens\"\n",
    "print(input_data.format(\"!\"))"
   ]
  },
  {
   "cell_type": "markdown",
   "metadata": {
    "colab_type": "text",
    "id": "uS2KtzPj2dJb"
   },
   "source": [
    "Note : - NOTE:​ ​The​ ​solution​ ​shared​ ​through​ ​Github​ ​should​ ​contain​ ​the​ ​source code​ ​used​ ​ and​  ​the​ ​output"
   ]
  }
 ],
 "metadata": {
  "colab": {
   "collapsed_sections": [],
   "name": "Assignment -1DONE.ipynb",
   "provenance": []
  },
  "kernelspec": {
   "display_name": "Python 3",
   "language": "python",
   "name": "python3"
  },
  "language_info": {
   "codemirror_mode": {
    "name": "ipython",
    "version": 3
   },
   "file_extension": ".py",
   "mimetype": "text/x-python",
   "name": "python",
   "nbconvert_exporter": "python",
   "pygments_lexer": "ipython3",
   "version": "3.7.4"
  }
 },
 "nbformat": 4,
 "nbformat_minor": 1
}

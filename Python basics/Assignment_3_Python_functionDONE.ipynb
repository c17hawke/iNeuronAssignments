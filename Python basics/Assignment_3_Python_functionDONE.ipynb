{
  "nbformat": 4,
  "nbformat_minor": 0,
  "metadata": {
    "kernelspec": {
      "display_name": "Python 3",
      "language": "python",
      "name": "python3"
    },
    "language_info": {
      "codemirror_mode": {
        "name": "ipython",
        "version": 3
      },
      "file_extension": ".py",
      "mimetype": "text/x-python",
      "name": "python",
      "nbconvert_exporter": "python",
      "pygments_lexer": "ipython3",
      "version": "3.7.4"
    },
    "colab": {
      "name": "Assignment 3 - Python functionDONE.ipynb",
      "provenance": [],
      "collapsed_sections": [],
      "include_colab_link": true
    }
  },
  "cells": [
    {
      "cell_type": "markdown",
      "metadata": {
        "id": "view-in-github",
        "colab_type": "text"
      },
      "source": [
        "<a href=\"https://colab.research.google.com/github/c17hawke/iNeuronAssignments/blob/master/Assignment_3_Python_functionDONE.ipynb\" target=\"_parent\"><img src=\"https://colab.research.google.com/assets/colab-badge.svg\" alt=\"Open In Colab\"/></a>"
      ]
    },
    {
      "cell_type": "markdown",
      "metadata": {
        "id": "wrmsPWIgxp16",
        "colab_type": "text"
      },
      "source": [
        "## Problem Statement"
      ]
    },
    {
      "cell_type": "markdown",
      "metadata": {
        "id": "4ucMxPlixp1_",
        "colab_type": "text"
      },
      "source": [
        "---\n",
        "#### Q.1 Write a function to compute 5/0 and use try/except to catch the exceptions."
      ]
    },
    {
      "cell_type": "code",
      "metadata": {
        "id": "tfVjOqgmxp2C",
        "colab_type": "code",
        "outputId": "12f0daa4-790e-40d4-90b7-c0699d9b63b9",
        "colab": {
          "base_uri": "https://localhost:8080/",
          "height": 67
        }
      },
      "source": [
        "def computeDivision(numerator, denominator):\n",
        "    try:\n",
        "        result = numerator/denominator\n",
        "    except ZeroDivisionError as e:\n",
        "        print(f\"error found: {e}\")\n",
        "        result=\"infinity\"\n",
        "    return result\n",
        "\n",
        "numerator = 5\n",
        "denominator = 0\n",
        "ans = computeDivision(numerator, denominator)\n",
        "print(f\"\\nresult of {numerator}/{denominator} = {ans}\")"
      ],
      "execution_count": 1,
      "outputs": [
        {
          "output_type": "stream",
          "text": [
            "error found: division by zero\n",
            "\n",
            "result of 5/0 = infinity\n"
          ],
          "name": "stdout"
        }
      ]
    },
    {
      "cell_type": "markdown",
      "metadata": {
        "id": "3g2ElY9Rxp2L",
        "colab_type": "text"
      },
      "source": [
        "---\n",
        "#### Q.2 Implement a Python program to generate all sentences where subject is in [\"Americans\",\"Indians\"] and verb is in [\"Play\", \"watch\"] and the object is in [\"Baseball\",\"cricket\"].\n",
        "\n",
        "    Hint: Subject,Verb and Object should be declared in the program as shown below.\n",
        "    subjects=[\"Americans \",\"Indians\"]\n",
        "    verbs=[\"play\",\"watch\"]\n",
        "    objects=[\"Baseball\",\"Cricket\"]\n",
        "\n",
        "    Output should come as below:\n",
        "    Americans play Baseball.\n",
        "    Americans play Cricket.\n",
        "    Americans watch Baseball.\n",
        "    Americans watch Cricket.\n",
        "    Indians play Baseball.\n",
        "    Indians play Cricket.\n",
        "    Indians watch Baseball.\n",
        "    Indians watch Cricket."
      ]
    },
    {
      "cell_type": "code",
      "metadata": {
        "id": "650YemPJxp2O",
        "colab_type": "code",
        "colab": {}
      },
      "source": [
        "def sentence_generator(subjects=None, verbs=None, objects=None):\n",
        "    for sub in subjects:\n",
        "        for verb in verbs:\n",
        "            for obj in objects:\n",
        "                print(f\"{sub} {verb} {obj}\")\n"
      ],
      "execution_count": 0,
      "outputs": []
    },
    {
      "cell_type": "code",
      "metadata": {
        "id": "7NrZgtAlMq5p",
        "colab_type": "code",
        "outputId": "28db6219-260a-4f31-bbd4-d2625d3073a5",
        "colab": {
          "base_uri": "https://localhost:8080/",
          "height": 151
        }
      },
      "source": [
        "SUBJECT=[\"Americans\",\"Indians\"]\n",
        "VERB=[\"play\",\"watch\"]\n",
        "OBJECT=[\"Baseball\",\"Cricket\"]\n",
        "\n",
        "sentence_generator(subjects=SUBJECT, verbs=VERB, objects=OBJECT)"
      ],
      "execution_count": 3,
      "outputs": [
        {
          "output_type": "stream",
          "text": [
            "Americans play Baseball\n",
            "Americans play Cricket\n",
            "Americans watch Baseball\n",
            "Americans watch Cricket\n",
            "Indians play Baseball\n",
            "Indians play Cricket\n",
            "Indians watch Baseball\n",
            "Indians watch Cricket\n"
          ],
          "name": "stdout"
        }
      ]
    },
    {
      "cell_type": "markdown",
      "metadata": {
        "id": "pwxwLkskxp2W",
        "colab_type": "text"
      },
      "source": [
        "---\n",
        "#### Q.3 Write a function so that the columns of the output matrix are powers of the input vector.\n",
        "\n",
        "#### The order of the powers is determined by the increasing boolean argument. Specifically, when\n",
        "\n",
        "#### increasing is False, the i-th output column is the input vector raised element-wise to the power\n",
        "of N - i - 1.\n",
        "\n",
        "    HINT: Such a matrix with a geometric progression in each row is named for Alexandre Theophile Vandermonde."
      ]
    },
    {
      "cell_type": "code",
      "metadata": {
        "id": "vHIKT8f92Lfk",
        "colab_type": "code",
        "colab": {}
      },
      "source": [
        "def getVanderMatrix(x, N=None, increasing=False):\n",
        "    '''Cusomt Vander matrix generator'''\n",
        "\n",
        "    # default condition if N is not given\n",
        "    if N is None:\n",
        "        N = len(x)\n",
        "        \n",
        "    matrix = []\n",
        "    # generating powers for each row based on N value in decreasing order\n",
        "    # which is a default case\n",
        "    pows = [(N-i-1) for N,i in zip([N]*N, range(N))]\n",
        "\n",
        "    # for increaing == True case\n",
        "    # reverse the pows array \n",
        "    if increasing:\n",
        "        pows = pows[::-1]\n",
        "\n",
        "    # iterate over x to generate and print each row\n",
        "    for ele in x:\n",
        "        row = [ele**pwr for pwr in pows] \n",
        "        print(row)\n",
        "        matrix.append(row)\n",
        "    return matrix"
      ],
      "execution_count": 0,
      "outputs": []
    },
    {
      "cell_type": "code",
      "metadata": {
        "id": "ufEK5UgC9D4H",
        "colab_type": "code",
        "outputId": "58e2ca60-f83b-4bcf-9010-68e17b2f2d51",
        "colab": {
          "base_uri": "https://localhost:8080/",
          "height": 67
        }
      },
      "source": [
        "inputVector = [1,2,3]\n",
        "no_of_ouput = 3\n",
        "result = getVanderMatrix(x=inputVector, N=no_of_ouput)"
      ],
      "execution_count": 5,
      "outputs": [
        {
          "output_type": "stream",
          "text": [
            "[1, 1, 1]\n",
            "[4, 2, 1]\n",
            "[9, 3, 1]\n"
          ],
          "name": "stdout"
        }
      ]
    },
    {
      "cell_type": "code",
      "metadata": {
        "id": "rdKPBdjI9lKN",
        "colab_type": "code",
        "outputId": "f99c001c-0dbf-4d52-fd8a-484dcbf40282",
        "colab": {
          "base_uri": "https://localhost:8080/",
          "height": 67
        }
      },
      "source": [
        "inputVector = [1,2,3]\n",
        "no_of_ouput = 3\n",
        "result = getVanderMatrix(x=inputVector, N=no_of_ouput, increasing=True)"
      ],
      "execution_count": 6,
      "outputs": [
        {
          "output_type": "stream",
          "text": [
            "[1, 1, 1]\n",
            "[1, 2, 4]\n",
            "[1, 3, 9]\n"
          ],
          "name": "stdout"
        }
      ]
    },
    {
      "cell_type": "code",
      "metadata": {
        "id": "WZ0b6wCn9HsK",
        "colab_type": "code",
        "outputId": "db9a199a-10c3-43ae-ca49-c2edc86ec3e4",
        "colab": {
          "base_uri": "https://localhost:8080/",
          "height": 67
        }
      },
      "source": [
        "inputVector = [1,2,3]\n",
        "no_of_ouput = 4\n",
        "result = getVanderMatrix(x=inputVector, N=no_of_ouput)"
      ],
      "execution_count": 7,
      "outputs": [
        {
          "output_type": "stream",
          "text": [
            "[1, 1, 1, 1]\n",
            "[8, 4, 2, 1]\n",
            "[27, 9, 3, 1]\n"
          ],
          "name": "stdout"
        }
      ]
    },
    {
      "cell_type": "code",
      "metadata": {
        "id": "JjNfHcWU9prG",
        "colab_type": "code",
        "outputId": "b4aa5f89-6642-499e-90bc-e5572d5bd82a",
        "colab": {
          "base_uri": "https://localhost:8080/",
          "height": 67
        }
      },
      "source": [
        "inputVector = [1,2,3]\n",
        "no_of_ouput = 4\n",
        "result = getVanderMatrix(x=inputVector, N=no_of_ouput, increasing=True)"
      ],
      "execution_count": 8,
      "outputs": [
        {
          "output_type": "stream",
          "text": [
            "[1, 1, 1, 1]\n",
            "[1, 2, 4, 8]\n",
            "[1, 3, 9, 27]\n"
          ],
          "name": "stdout"
        }
      ]
    },
    {
      "cell_type": "code",
      "metadata": {
        "id": "TctHWlmr9ISW",
        "colab_type": "code",
        "outputId": "e17a5558-785e-46d4-fba1-9d22caaf6d53",
        "colab": {
          "base_uri": "https://localhost:8080/",
          "height": 84
        }
      },
      "source": [
        "inputVector = [1,2,3,5]\n",
        "no_of_ouput = 3\n",
        "result = getVanderMatrix(x=inputVector, N=no_of_ouput)"
      ],
      "execution_count": 9,
      "outputs": [
        {
          "output_type": "stream",
          "text": [
            "[1, 1, 1]\n",
            "[4, 2, 1]\n",
            "[9, 3, 1]\n",
            "[25, 5, 1]\n"
          ],
          "name": "stdout"
        }
      ]
    },
    {
      "cell_type": "code",
      "metadata": {
        "id": "tboauhoh-ADn",
        "colab_type": "code",
        "outputId": "6b2dda92-4d07-439d-c141-15f3678b1e33",
        "colab": {
          "base_uri": "https://localhost:8080/",
          "height": 84
        }
      },
      "source": [
        "inputVector = [1,2,3,5]\n",
        "result = getVanderMatrix(x=inputVector)"
      ],
      "execution_count": 10,
      "outputs": [
        {
          "output_type": "stream",
          "text": [
            "[1, 1, 1, 1]\n",
            "[8, 4, 2, 1]\n",
            "[27, 9, 3, 1]\n",
            "[125, 25, 5, 1]\n"
          ],
          "name": "stdout"
        }
      ]
    },
    {
      "cell_type": "code",
      "metadata": {
        "id": "q7Zc4gBx-GtK",
        "colab_type": "code",
        "outputId": "3c4d329d-298e-458b-ec95-8014822edaf4",
        "colab": {
          "base_uri": "https://localhost:8080/",
          "height": 50
        }
      },
      "source": [
        "inputVector = [1,2]\n",
        "result = getVanderMatrix(x=inputVector)"
      ],
      "execution_count": 11,
      "outputs": [
        {
          "output_type": "stream",
          "text": [
            "[1, 1]\n",
            "[2, 1]\n"
          ],
          "name": "stdout"
        }
      ]
    },
    {
      "cell_type": "code",
      "metadata": {
        "id": "N5PV_8Pc-NEh",
        "colab_type": "code",
        "outputId": "df16d421-4cb3-44b5-f775-3f7f3be655d8",
        "colab": {
          "base_uri": "https://localhost:8080/",
          "height": 84
        }
      },
      "source": [
        "inputVector = [1,2,3,5]\n",
        "result = getVanderMatrix(x=inputVector, increasing=True)"
      ],
      "execution_count": 12,
      "outputs": [
        {
          "output_type": "stream",
          "text": [
            "[1, 1, 1, 1]\n",
            "[1, 2, 4, 8]\n",
            "[1, 3, 9, 27]\n",
            "[1, 5, 25, 125]\n"
          ],
          "name": "stdout"
        }
      ]
    },
    {
      "cell_type": "markdown",
      "metadata": {
        "id": "XTFVqhOBMUFv",
        "colab_type": "text"
      },
      "source": [
        "#### A numpy.vander example -"
      ]
    },
    {
      "cell_type": "code",
      "metadata": {
        "id": "MOVB73Mv-ZO8",
        "colab_type": "code",
        "colab": {}
      },
      "source": [
        "import numpy as np"
      ],
      "execution_count": 0,
      "outputs": []
    },
    {
      "cell_type": "code",
      "metadata": {
        "id": "KMv-Ja6CTbk0",
        "colab_type": "code",
        "outputId": "3b062009-ebd3-4950-b0f8-93b48c8377ea",
        "colab": {
          "base_uri": "https://localhost:8080/",
          "height": 84
        }
      },
      "source": [
        "x = np.array([1,2,3,5])\n",
        "N = 3\n",
        "np.vander(x, N)"
      ],
      "execution_count": 14,
      "outputs": [
        {
          "output_type": "execute_result",
          "data": {
            "text/plain": [
              "array([[ 1,  1,  1],\n",
              "       [ 4,  2,  1],\n",
              "       [ 9,  3,  1],\n",
              "       [25,  5,  1]])"
            ]
          },
          "metadata": {
            "tags": []
          },
          "execution_count": 14
        }
      ]
    },
    {
      "cell_type": "markdown",
      "metadata": {
        "id": "cz5WNBDUgMm3",
        "colab_type": "text"
      },
      "source": [
        "#### TestSolution Class to compare result of numpy vander function with my custom vander function"
      ]
    },
    {
      "cell_type": "code",
      "metadata": {
        "id": "qAkkj449pQTU",
        "colab_type": "code",
        "colab": {}
      },
      "source": [
        "class TestSolution:\n",
        "    '''class to test custom functions with in-built functions'''\n",
        "    def __init__(self, Xs, Ns, increaseConditions):\n",
        "        self.Xs = Xs\n",
        "        self.Ns = Ns\n",
        "        self.inc_con = increaseConditions\n",
        "        self.testCases = len(self.Xs)\n",
        "    \n",
        "    def getSolution(self, x, N=None, increase=False):\n",
        "        if N is None:\n",
        "            N = len(x)\n",
        "        numpyResult = np.vander(x, N, increase).all()\n",
        "        myFuncResult = np.array(getVanderMatrix(x, N, increase)).all()\n",
        "        return numpyResult == myFuncResult\n",
        "\n",
        "    def test(self):\n",
        "        '''\n",
        "        assertion test to compare results\n",
        "        of custom vander function with numpy vander function\n",
        "        '''\n",
        "        # install nose lib if not installed\n",
        "        try:\n",
        "            from nose.tools import assert_equal\n",
        "        except:\n",
        "            print(\"installing nose library to proceed further\")\n",
        "            import os\n",
        "            os.system(\"pip install nose\")\n",
        "            # now load nose lib as it got failed before\n",
        "            from nose.tools import assert_equal\n",
        "\n",
        "        try:\n",
        "            for i in range(self.testCases):\n",
        "                print(f\"resultant matrix for element {i+1} of Xs\")\n",
        "                assert_equal(self.getSolution(self.Xs[i], self.Ns[i], self.inc_con[i]), True)\n",
        "                print(\"--\"*20)\n",
        "            print(\"ALL TEST CASES PASSED !!\")\n",
        "        except:\n",
        "            print(\"TEST FAILED\")"
      ],
      "execution_count": 0,
      "outputs": []
    },
    {
      "cell_type": "code",
      "metadata": {
        "id": "diNtTLUZfOwO",
        "colab_type": "code",
        "colab": {}
      },
      "source": [
        "# add more case to test in the list\n",
        "# input arrays\n",
        "Xs = [[1,2],     # case 1\n",
        "      [1,2,3],   # case 2\n",
        "      [1,2,4,5]] # case 3\n",
        "\n",
        "# No of columns needed\n",
        "Ns = [3,    # case 1\n",
        "      None, # case 2\n",
        "      4]    # case 3\n",
        "\n",
        "# increasing condition for increasing or decreasing vandermonde matrix \n",
        "increaseConditions = [False, # case 1 \n",
        "                      True,  # case 2\n",
        "                      None]  # case 3"
      ],
      "execution_count": 0,
      "outputs": []
    },
    {
      "cell_type": "code",
      "metadata": {
        "id": "Qyp2oEgleVuC",
        "colab_type": "code",
        "outputId": "8e246cb3-1b42-4d89-95b8-e0fa0620f580",
        "colab": {
          "base_uri": "https://localhost:8080/",
          "height": 302
        }
      },
      "source": [
        "# testing dolution using our custom TestSolution class\n",
        "testing = TestSolution(Xs, Ns, increaseConditions)\n",
        "testing.test()"
      ],
      "execution_count": 17,
      "outputs": [
        {
          "output_type": "stream",
          "text": [
            "installing nose library to proceed further\n",
            "resultant matrix for element 1 of Xs\n",
            "[1, 1, 1]\n",
            "[4, 2, 1]\n",
            "----------------------------------------\n",
            "resultant matrix for element 2 of Xs\n",
            "[1, 1, 1]\n",
            "[1, 2, 4]\n",
            "[1, 3, 9]\n",
            "----------------------------------------\n",
            "resultant matrix for element 3 of Xs\n",
            "[1, 1, 1, 1]\n",
            "[8, 4, 2, 1]\n",
            "[64, 16, 4, 1]\n",
            "[125, 25, 5, 1]\n",
            "----------------------------------------\n",
            "ALL TEST CASES PASSED !!\n"
          ],
          "name": "stdout"
        }
      ]
    }
  ]
}
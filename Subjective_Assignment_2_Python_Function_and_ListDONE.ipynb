{
  "nbformat": 4,
  "nbformat_minor": 0,
  "metadata": {
    "kernelspec": {
      "display_name": "Python 3",
      "language": "python",
      "name": "python3"
    },
    "language_info": {
      "codemirror_mode": {
        "name": "ipython",
        "version": 3
      },
      "file_extension": ".py",
      "mimetype": "text/x-python",
      "name": "python",
      "nbconvert_exporter": "python",
      "pygments_lexer": "ipython3",
      "version": "3.7.4"
    },
    "colab": {
      "name": "Subjective Assignment - 2 - Python Function and ListDONE.ipynb",
      "provenance": [],
      "collapsed_sections": [],
      "include_colab_link": true
    }
  },
  "cells": [
    {
      "cell_type": "markdown",
      "metadata": {
        "id": "view-in-github",
        "colab_type": "text"
      },
      "source": [
        "<a href=\"https://colab.research.google.com/github/c17hawke/iNeuronAssignments/blob/master/Subjective_Assignment_2_Python_Function_and_ListDONE.ipynb\" target=\"_parent\"><img src=\"https://colab.research.google.com/assets/colab-badge.svg\" alt=\"Open In Colab\"/></a>"
      ]
    },
    {
      "cell_type": "markdown",
      "metadata": {
        "id": "aeVlM_g_en14",
        "colab_type": "text"
      },
      "source": [
        "# Assignments"
      ]
    },
    {
      "cell_type": "markdown",
      "metadata": {
        "id": "6Hn3nMKjen19",
        "colab_type": "text"
      },
      "source": [
        "---\n",
        "Q1. Write the Python function to get a string made of 4 copies of the last\n",
        "two characters of the specified string (length must be at least 2).\n",
        "\n",
        "    Sample function and result :\n",
        "    insert-end ('Python') -> onononon\n",
        "    insert-end('Exercises') -> eseseses"
      ]
    },
    {
      "cell_type": "code",
      "metadata": {
        "id": "rD-GnRoCen1_",
        "colab_type": "code",
        "outputId": "a36f0698-182a-4b8b-ebcd-d0877464a17d",
        "colab": {
          "base_uri": "https://localhost:8080/",
          "height": 168
        }
      },
      "source": [
        "def insert_end(input_str=None, copies=4):\n",
        "    print(f\"input string = {input_str}\")\n",
        "    return input_str[-2:]*copies\n",
        "\n",
        "input_str1 = \"Python\"\n",
        "result1 = insert_end(input_str1) # copies = 4 is default given \n",
        "print(f\"result 1 = {result1}\\n\")\n",
        "\n",
        "input_str2 = \"Exercises\"\n",
        "result2 = insert_end(input_str2)\n",
        "print(f\"result 2 = {result2}\\n\")\n",
        "\n",
        "input_str2 = \"Sunny\"\n",
        "result2 = insert_end(input_str2, copies=6) # changed the defaults to 6\n",
        "print(f\"result 3 = {result2}\\n\")\n"
      ],
      "execution_count": 1,
      "outputs": [
        {
          "output_type": "stream",
          "text": [
            "input string = Python\n",
            "result 1 = onononon\n",
            "\n",
            "input string = Exercises\n",
            "result 2 = eseseses\n",
            "\n",
            "input string = Sunny\n",
            "result 3 = nynynynynyny\n",
            "\n"
          ],
          "name": "stdout"
        }
      ]
    },
    {
      "cell_type": "markdown",
      "metadata": {
        "id": "CVEpuuvTen2G",
        "colab_type": "text"
      },
      "source": [
        "---\n",
        "Q2. Write the python function to get a string made of its first three\n",
        "characters of a specified string. If the length of the string is less than 3\n",
        "then return the original string.\n",
        "    \n",
        "    Sample function and result :\n",
        "    first-three('ipy') -> ipy\n",
        "    first-three('python') -> pyt"
      ]
    },
    {
      "cell_type": "code",
      "metadata": {
        "id": "BsM2zLlVen2H",
        "colab_type": "code",
        "colab": {}
      },
      "source": [
        "def first_three(inString=None):\n",
        "    print(f\"input string: {inString}\")\n",
        "    if len(inString) <= 3:\n",
        "        return inString\n",
        "    return inString[:3]"
      ],
      "execution_count": 0,
      "outputs": []
    },
    {
      "cell_type": "code",
      "metadata": {
        "id": "pjONMNGrfJTU",
        "colab_type": "code",
        "outputId": "402d52e2-b69d-4ee8-8534-5c8b85e52b7e",
        "colab": {
          "base_uri": "https://localhost:8080/",
          "height": 218
        }
      },
      "source": [
        "result1 = first_three(\"ipy\")\n",
        "print(f\"result1: {result1}\\n\")\n",
        "result2 = first_three(\"python\")\n",
        "print(f\"result2: {result2}\\n\")\n",
        "result3 = first_three(\"Sunny\")\n",
        "print(f\"result3: {result3}\\n\")\n",
        "result4 = first_three(\"Jet\")\n",
        "print(f\"result4: {result4}\\n\")"
      ],
      "execution_count": 3,
      "outputs": [
        {
          "output_type": "stream",
          "text": [
            "input string: ipy\n",
            "result1: ipy\n",
            "\n",
            "input string: python\n",
            "result2: pyt\n",
            "\n",
            "input string: Sunny\n",
            "result3: Sun\n",
            "\n",
            "input string: Jet\n",
            "result4: Jet\n",
            "\n"
          ],
          "name": "stdout"
        }
      ]
    },
    {
      "cell_type": "markdown",
      "metadata": {
        "id": "jMJF6BOJen2N",
        "colab_type": "text"
      },
      "source": [
        "---\n",
        "Q3. Write the Python program to find smallest window that contains all\n",
        "characters of the given string?\n",
        "\n",
        "    Original Strings:\n",
        "    asdaewsqgtwwsa\n",
        "    Smallest window that contains all characters of the said string:\n",
        "    Daewsqgt"
      ]
    },
    {
      "cell_type": "code",
      "metadata": {
        "id": "ATGYbLbPgGis",
        "colab_type": "code",
        "colab": {}
      },
      "source": [
        "def find_smallest_win(sampleString=None):\n",
        "    unique_char = set(sampleString)\n",
        "    k = len(unique_char) # window of the string\n",
        "    n = len(sampleString) # len of the sample string\n",
        "    for idx in range(n-k+1):\n",
        "        # iterate in chunks with moving window length k\n",
        "        chunk = str1[idx: idx + k]\n",
        "        # return when chunk has the exact substring of uniqu chars\n",
        "        if sorted(list(chunk)) == sorted(list(unique_char)): \n",
        "            return str1[idx: idx + k]"
      ],
      "execution_count": 0,
      "outputs": []
    },
    {
      "cell_type": "code",
      "metadata": {
        "id": "Aal2A3cGen2O",
        "colab_type": "code",
        "colab": {
          "base_uri": "https://localhost:8080/",
          "height": 34
        },
        "outputId": "e48cad06-434d-4612-a4cc-0979f194c86a"
      },
      "source": [
        "str1= 'asdaewsqgtwwsa'\n",
        "find_smallest_win(sampleString = str1)"
      ],
      "execution_count": 5,
      "outputs": [
        {
          "output_type": "execute_result",
          "data": {
            "text/plain": [
              "'daewsqgt'"
            ]
          },
          "metadata": {
            "tags": []
          },
          "execution_count": 5
        }
      ]
    },
    {
      "cell_type": "markdown",
      "metadata": {
        "id": "0irGrgaaen2U",
        "colab_type": "text"
      },
      "source": [
        "---\n",
        "Q4. Write the Python program to count number of substrings from a\n",
        "given string of lowercase alphabets with exactly k distinct (given)\n",
        "characters?\n",
        "\n",
        "    Input a string (lowercase alphabets): wolf\n",
        "    Input k: 4\n",
        "    Number of substrings with exactly 4 distinct characters: 1"
      ]
    },
    {
      "cell_type": "code",
      "metadata": {
        "id": "OV6Kx4ilen2V",
        "colab_type": "code",
        "colab": {}
      },
      "source": [
        "def get_subtring_count(inString=None, window=None):\n",
        "    '''returns the count of substring based on length of window given'''\n",
        "    n = len(inString) \n",
        "    # check if non integer values is given for window\n",
        "    if (window is None):\n",
        "        k = n # default case = lenth of input string\n",
        "    else:\n",
        "        k = int(window)\n",
        "    inString = inString.lower()\n",
        "    return len([inString[i:i+k] for i in range(n-k+1)])"
      ],
      "execution_count": 0,
      "outputs": []
    },
    {
      "cell_type": "code",
      "metadata": {
        "id": "f1iyyCZOh311",
        "colab_type": "code",
        "outputId": "de1855df-aa3a-4cfb-f177-052d56622142",
        "colab": {
          "base_uri": "https://localhost:8080/",
          "height": 67
        }
      },
      "source": [
        "testInput = input(\"Input a string: \")\n",
        "num = int(input(\"enter k: \"))\n",
        "\n",
        "result = get_subtring_count(inString=testInput, window=num)\n",
        "\n",
        "print(f\"Number of substrings with exactly {num} distinct characters: {result}\")"
      ],
      "execution_count": 7,
      "outputs": [
        {
          "output_type": "stream",
          "text": [
            "Input a string: wolf\n",
            "enter k: 2\n",
            "Number of substrings with exactly 2 distinct characters: 3\n"
          ],
          "name": "stdout"
        }
      ]
    },
    {
      "cell_type": "code",
      "metadata": {
        "id": "WiFvwuIvh7jk",
        "colab_type": "code",
        "outputId": "46768002-0c0d-4da0-89f9-8362e03dd80a",
        "colab": {
          "base_uri": "https://localhost:8080/",
          "height": 34
        }
      },
      "source": [
        "result = get_subtring_count(inString=testInput) # when windows kwarg not used\n",
        "\n",
        "print(f\"Number of substrings with exactly {num} distinct characters: {result}\")"
      ],
      "execution_count": 8,
      "outputs": [
        {
          "output_type": "stream",
          "text": [
            "Number of substrings with exactly 2 distinct characters: 1\n"
          ],
          "name": "stdout"
        }
      ]
    },
    {
      "cell_type": "markdown",
      "metadata": {
        "id": "nFsKF2fwen2c",
        "colab_type": "text"
      },
      "source": [
        "---\n",
        "Q5. Write the Python program to count number of non-empty\n",
        "substrings of the given string?\n",
        "\n",
        "    Input a string: w3resource\n",
        "    Number of substrings:\n",
        "    55"
      ]
    },
    {
      "cell_type": "code",
      "metadata": {
        "id": "TY4l5-xDen2d",
        "colab_type": "code",
        "outputId": "6d5c2ee9-3d5c-4dad-fdf8-d3b522bc945b",
        "colab": {
          "base_uri": "https://localhost:8080/",
          "height": 34
        }
      },
      "source": [
        "inString = 'w3resource'\n",
        "\n",
        "count = 0\n",
        "for i,_ in enumerate(inString):\n",
        "    for j,_ in enumerate(inString):\n",
        "        chunk = inString[i:j+1] \n",
        "        if len(chunk) >= 1:\n",
        "            count += 1\n",
        "\n",
        "print(count)"
      ],
      "execution_count": 9,
      "outputs": [
        {
          "output_type": "stream",
          "text": [
            "55\n"
          ],
          "name": "stdout"
        }
      ]
    },
    {
      "cell_type": "markdown",
      "metadata": {
        "id": "4YzXoikden2i",
        "colab_type": "text"
      },
      "source": [
        "---\n",
        "Q6. Write the Python program to count the number of strings where the\n",
        "string length is 2 or more, and first and last character are same\n",
        "from a given list of strings.\n",
        "\n",
        "    Sample List : ['abc', 'xyz', 'wxw', '1331']\n",
        "    Expected Result: 2"
      ]
    },
    {
      "cell_type": "code",
      "metadata": {
        "id": "HhtJbUk_en2k",
        "colab_type": "code",
        "outputId": "342c2905-7408-4169-f4b3-22affdb94555",
        "colab": {
          "base_uri": "https://localhost:8080/",
          "height": 34
        }
      },
      "source": [
        "sampleList = ['abc', 'xyz', 'wxw', '1331']\n",
        "\n",
        "count = 0\n",
        "for word in sampleList:\n",
        "    if (len(word) > 2) and (word[0] == word[-1]):\n",
        "        count += 1 \n",
        "\n",
        "print(count)"
      ],
      "execution_count": 10,
      "outputs": [
        {
          "output_type": "stream",
          "text": [
            "2\n"
          ],
          "name": "stdout"
        }
      ]
    },
    {
      "cell_type": "markdown",
      "metadata": {
        "id": "pjZvGXSIen2q",
        "colab_type": "text"
      },
      "source": [
        "---\n",
        "Q7. Write the Python program to get a list, sorted in increasing order by\n",
        "the last element in each tuple from the given list of non-empty\n",
        "tuples?\n",
        "\n",
        "    Sample List - [ (2, 5), (1, 2), (4, 4), (2, 3), (2, 1) ]\n",
        "    Expected Result - [ (2, 1), (1, 2), (2, 3), (4, 4), (2, 5) ]"
      ]
    },
    {
      "cell_type": "code",
      "metadata": {
        "id": "6f9yNNGPen2s",
        "colab_type": "code",
        "colab": {}
      },
      "source": [
        "def sort_by_2nd_index(inList):\n",
        "    print(f\"Original list: {inList}\")\n",
        "    # place holder empty lists\n",
        "    original_1 = list()\n",
        "    original_2 = list()\n",
        "\n",
        "    # enumerate over list of tuples to \n",
        "    # unzip and put them in separate lists\n",
        "    for _,(j,k) in enumerate(inList):\n",
        "        original_1.append(j)\n",
        "        original_2.append(k)\n",
        "    # sort the second array\n",
        "    sort_2nd = sorted(original_2)\n",
        "    # store and return the original array1 values as per the sorted \n",
        "    # seconda array\n",
        "    return ([(original_1[original_2.index(p)], p) for p in sort_2nd])"
      ],
      "execution_count": 0,
      "outputs": []
    },
    {
      "cell_type": "code",
      "metadata": {
        "id": "e8031xqBGLiy",
        "colab_type": "code",
        "outputId": "a0a1f825-d057-4aad-c534-c4cb41412f89",
        "colab": {
          "base_uri": "https://localhost:8080/",
          "height": 50
        }
      },
      "source": [
        "result = sort_by_2nd_index([ (2, 5), (1, 2), (4, 4), (2, 3), (2, 1) ])\n",
        "print(f\"Sorted by 2nd element: {result}\")"
      ],
      "execution_count": 12,
      "outputs": [
        {
          "output_type": "stream",
          "text": [
            "Original list: [(2, 5), (1, 2), (4, 4), (2, 3), (2, 1)]\n",
            "Sorted by 2nd element: [(2, 1), (1, 2), (2, 3), (4, 4), (2, 5)]\n"
          ],
          "name": "stdout"
        }
      ]
    },
    {
      "cell_type": "markdown",
      "metadata": {
        "id": "uVPRxTW-en2w",
        "colab_type": "text"
      },
      "source": [
        "---\n",
        "Q8. Write the Python program to remove duplicates from a list?"
      ]
    },
    {
      "cell_type": "code",
      "metadata": {
        "id": "lSGIwHnYen2y",
        "colab_type": "code",
        "colab": {}
      },
      "source": [
        "def getUnique(inList):\n",
        "    return list(set(inList))"
      ],
      "execution_count": 0,
      "outputs": []
    },
    {
      "cell_type": "code",
      "metadata": {
        "id": "MR60vIAHE474",
        "colab_type": "code",
        "outputId": "872c28a1-cb5c-4db2-ade9-60e16a20d176",
        "colab": {
          "base_uri": "https://localhost:8080/",
          "height": 34
        }
      },
      "source": [
        "SampleList = ['Red', 'Red', 'White', 'Black', 'Black', 'Yellow']\n",
        "getUnique(SampleList)"
      ],
      "execution_count": 14,
      "outputs": [
        {
          "output_type": "execute_result",
          "data": {
            "text/plain": [
              "['Yellow', 'Red', 'Black', 'White']"
            ]
          },
          "metadata": {
            "tags": []
          },
          "execution_count": 14
        }
      ]
    },
    {
      "cell_type": "markdown",
      "metadata": {
        "id": "UnLct63Aen23",
        "colab_type": "text"
      },
      "source": [
        "---\n",
        "Q9. Write the Python program to find the list of words that are longer\n",
        "than n from a given list of words?"
      ]
    },
    {
      "cell_type": "code",
      "metadata": {
        "id": "g5NnlnnHen25",
        "colab_type": "code",
        "colab": {}
      },
      "source": [
        "def getLongerThanN(inList, N):\n",
        "    return [word for word in inList if len(word) > N]"
      ],
      "execution_count": 0,
      "outputs": []
    },
    {
      "cell_type": "code",
      "metadata": {
        "id": "I03dC0XWEh_q",
        "colab_type": "code",
        "outputId": "e870b363-d6e2-484b-ff3c-e36577a47acc",
        "colab": {
          "base_uri": "https://localhost:8080/",
          "height": 34
        }
      },
      "source": [
        "SampleList = ['Red', 'Green', 'White', 'Black', 'Pink', 'Yellow']\n",
        "getLongerThanN(SampleList, 4)"
      ],
      "execution_count": 16,
      "outputs": [
        {
          "output_type": "execute_result",
          "data": {
            "text/plain": [
              "['Green', 'White', 'Black', 'Yellow']"
            ]
          },
          "metadata": {
            "tags": []
          },
          "execution_count": 16
        }
      ]
    },
    {
      "cell_type": "markdown",
      "metadata": {
        "id": "sl0eWvMPen29",
        "colab_type": "text"
      },
      "source": [
        "---\n",
        "Q10. Write the Python program to print a specified list after removing the\n",
        "0th, 4th, and 5th elements?\n",
        "    \n",
        "    Sample List - ['Red', 'Green', 'White', 'Black', 'Pink', 'Yellow']\n",
        "    Expected Output - ['Green', 'White', 'Black']"
      ]
    },
    {
      "cell_type": "code",
      "metadata": {
        "id": "6c0DY3Sz7-dH",
        "colab_type": "code",
        "colab": {}
      },
      "source": [
        "def get_045_elements(inList):\n",
        "    inList.pop(5)\n",
        "    inList.pop(4)\n",
        "    inList.pop(0)\n",
        "    return inList\n"
      ],
      "execution_count": 0,
      "outputs": []
    },
    {
      "cell_type": "code",
      "metadata": {
        "id": "qLIQyCkeen2_",
        "colab_type": "code",
        "outputId": "e3ae94cf-7e75-447c-c981-65a57d9158e8",
        "colab": {
          "base_uri": "https://localhost:8080/",
          "height": 34
        }
      },
      "source": [
        "SampleList = ['Red', 'Green', 'White', 'Black', 'Pink', 'Yellow']\n",
        "get_045_elements(SampleList)"
      ],
      "execution_count": 18,
      "outputs": [
        {
          "output_type": "execute_result",
          "data": {
            "text/plain": [
              "['Green', 'White', 'Black']"
            ]
          },
          "metadata": {
            "tags": []
          },
          "execution_count": 18
        }
      ]
    },
    {
      "cell_type": "markdown",
      "metadata": {
        "id": "K_JPDfy1en3F",
        "colab_type": "text"
      },
      "source": [
        "---\n",
        "Q11. Write the Python program to generate all permutations of a list in\n",
        "Python?"
      ]
    },
    {
      "cell_type": "code",
      "metadata": {
        "id": "wCgNYg51QWl6",
        "colab_type": "code",
        "colab": {}
      },
      "source": [
        "from itertools import permutations, combinations"
      ],
      "execution_count": 0,
      "outputs": []
    },
    {
      "cell_type": "code",
      "metadata": {
        "id": "BhTtx3bNcpAn",
        "colab_type": "code",
        "outputId": "2dc5d80b-df1a-4f56-d972-18ddbba17118",
        "colab": {
          "base_uri": "https://localhost:8080/",
          "height": 118
        }
      },
      "source": [
        "lst = list('abc')\n",
        "list(permutations(lst))"
      ],
      "execution_count": 20,
      "outputs": [
        {
          "output_type": "execute_result",
          "data": {
            "text/plain": [
              "[('a', 'b', 'c'),\n",
              " ('a', 'c', 'b'),\n",
              " ('b', 'a', 'c'),\n",
              " ('b', 'c', 'a'),\n",
              " ('c', 'a', 'b'),\n",
              " ('c', 'b', 'a')]"
            ]
          },
          "metadata": {
            "tags": []
          },
          "execution_count": 20
        }
      ]
    },
    {
      "cell_type": "code",
      "metadata": {
        "id": "_wYd3RFfc5T5",
        "colab_type": "code",
        "outputId": "916756aa-892f-491e-8955-fda6aabfa202",
        "colab": {
          "base_uri": "https://localhost:8080/",
          "height": 34
        }
      },
      "source": [
        "list(combinations(lst, r=len(lst)))"
      ],
      "execution_count": 21,
      "outputs": [
        {
          "output_type": "execute_result",
          "data": {
            "text/plain": [
              "[('a', 'b', 'c')]"
            ]
          },
          "metadata": {
            "tags": []
          },
          "execution_count": 21
        }
      ]
    },
    {
      "cell_type": "markdown",
      "metadata": {
        "id": "JDWvmE3Ken3O",
        "colab_type": "text"
      },
      "source": [
        "---\n",
        "<font color=\"green\">Q12. Write the Python program to convert a pair of values into a sorted\n",
        "unique array?</font>\n",
        "\n",
        " \n",
        "    Original List- [ (1, 2), (3, 4), (1, 2), (5, 6), (7, 8), (1, 2), (3, 4), (3, 4), (7, 8), (9, 10) ]\n",
        "    Sorted Unique Data- [ 1, 2, 3, 4, 5, 6, 7, 8, 9, 10 ] \n"
      ]
    },
    {
      "cell_type": "code",
      "metadata": {
        "id": "wikZ3TnBen3R",
        "colab_type": "code",
        "colab": {}
      },
      "source": [
        "def keep_it_unique(inList=None):\n",
        "    \"\"\"\n",
        "    returns unique list out of list of tuples \n",
        "    in a sorted order\n",
        "    \"\"\"\n",
        "    result = list() # to store the final results\n",
        "    # iterate over the list of tuples and extend \n",
        "    # result list\n",
        "    for i, j in inList:\n",
        "        result += [i,j]\n",
        "\n",
        "    return sorted(list(set(result)))"
      ],
      "execution_count": 0,
      "outputs": []
    },
    {
      "cell_type": "code",
      "metadata": {
        "id": "wTcfcOA0goDB",
        "colab_type": "code",
        "outputId": "10eea6ff-9003-4275-a24a-d6b4d29a02cd",
        "colab": {
          "base_uri": "https://localhost:8080/",
          "height": 34
        }
      },
      "source": [
        "originalList = [ (3, 4), (1, 2), (1, 2), (5, 6), (7, 8), (1, 2), (3, 4), (3, 4), (7, 8), (9, 10) ]\n",
        "result = keep_it_unique(inList=originalList)\n",
        "print(result)"
      ],
      "execution_count": 23,
      "outputs": [
        {
          "output_type": "stream",
          "text": [
            "[1, 2, 3, 4, 5, 6, 7, 8, 9, 10]\n"
          ],
          "name": "stdout"
        }
      ]
    },
    {
      "cell_type": "markdown",
      "metadata": {
        "id": "XUTvQnwsen3X",
        "colab_type": "text"
      },
      "source": [
        "## Great job!"
      ]
    }
  ]
}